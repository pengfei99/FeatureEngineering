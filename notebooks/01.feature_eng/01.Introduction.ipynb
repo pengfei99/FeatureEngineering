{
 "cells": [
  {
   "cell_type": "markdown",
   "source": [
    "# 1. Introduction to Feature Engineering\n",
    "\n",
    "\n",
    "## 1.1 About this tutorial\n",
    "The origin doc is [here](https://www.kaggle.com/code/ryanholbrook/what-is-feature-engineering)\n",
    "In this course we will learn about one of the most important steps on the way to building a great machine learning model: **feature engineering**. You'll learn how to:\n",
    "\n",
    "- determine which features are the most important with mutual information\n",
    "- invent new features in several real-world problem domains\n",
    "- encode high-cardinality categorical column with a target encoding\n",
    "- create segmentation features with k-means clustering\n",
    "- decompose a dataset's variation into features with principal component analysis\n",
    "\n",
    "The hands-on exercises build up to a complete notebook that applies all of these techniques to make a submission to the House Prices Getting Started competition. After completing this course, you'll have several ideas that you can use to further improve your performance.\n",
    "\n",
    "\n",
    "## 1.2 The Goal of Feature Engineering\n",
    "\n",
    "The goal of feature engineering is simply to make your data better suited to the problem at hand.\n",
    "\n",
    "Consider \"apparent temperature\" measures like the heat index and the wind chill. These quantities attempt to measure the perceived temperature to humans based on air temperature, humidity, and wind speed, things which we can measure directly. You could think of an apparent temperature as the result of a kind of feature engineering, an attempt to make the observed data more relevant to what we actually care about: how it actually feels outside!\n",
    "\n",
    "You might perform feature engineering to:\n",
    "\n",
    "- improve a model's predictive performance\n",
    "- reduce computational or data needs\n",
    "- improve interpretability of the results\n",
    "\n",
    "## 1.3 A Guiding Principle of Feature Engineering\n",
    "\n",
    "For a feature to be useful, it must have a relationship to the target that your model is able to learn. Linear models, for instance, are only able to learn linear relationships. So, when using a linear model, your goal is to transform the features to make their relationship to the target linear.\n",
    "\n",
    "The key idea here is that a transformation you apply to a feature becomes in essence a part of the model itself. Say you were trying to predict the Price of square plots of land from the Length of one side. Fitting a linear model directly to Length gives poor results: the relationship is not linear(A linear model fits poorly with only length as feature).\n",
    "\n",
    "If we square the Length feature to get 'Area', however, we create a linear relationship. Adding Area to the feature set means this linear model can now fit a parabola. Squaring a feature, in other words, gave the linear model the ability to fit squared features.\n",
    "\n",
    "\n",
    "The above example show you why there can be such a **high return on time invested in feature engineering**. Whatever relationships your model can't learn, you can provide yourself through transformations. As you develop your feature set, think about what information your model could use to achieve its best performance."
   ],
   "metadata": {
    "collapsed": false,
    "pycharm": {
     "name": "#%% md\n"
    }
   }
  },
  {
   "cell_type": "markdown",
   "source": [
    "## 1.4 A Concrete Example\n",
    "\n",
    "Below example demonstrates how adding a few synthetic features to a dataset can improve the predictive performance of a random forest model\n",
    "\n",
    "### 1.4.1 The Source Data\n",
    "The dataset \"../data/concrete.csv\" contains a variety of concrete formulations and the resulting product's compressive strength, which is a measure of how much load that kind of concrete can bear.\n"
   ],
   "metadata": {
    "collapsed": false,
    "pycharm": {
     "name": "#%% md\n"
    }
   }
  },
  {
   "cell_type": "code",
   "execution_count": 5,
   "outputs": [],
   "source": [
    "import pandas as pd\n",
    "from sklearn.ensemble import RandomForestRegressor\n",
    "from sklearn.model_selection import cross_val_score"
   ],
   "metadata": {
    "collapsed": false,
    "pycharm": {
     "name": "#%%\n"
    }
   }
  },
  {
   "cell_type": "code",
   "execution_count": 6,
   "outputs": [],
   "source": [
    "# some config\n",
    "source_path = \"../../data/concrete.csv\"\n",
    "\n",
    "label_col = \"CompressiveStrength\""
   ],
   "metadata": {
    "collapsed": false,
    "pycharm": {
     "name": "#%%\n"
    }
   }
  },
  {
   "cell_type": "code",
   "execution_count": 3,
   "outputs": [],
   "source": [
    "df = pd.read_csv(source_path)"
   ],
   "metadata": {
    "collapsed": false,
    "pycharm": {
     "name": "#%%\n"
    }
   }
  },
  {
   "cell_type": "code",
   "execution_count": 4,
   "outputs": [
    {
     "data": {
      "text/plain": "   Cement  BlastFurnaceSlag  FlyAsh  Water  Superplasticizer  CoarseAggregate  \\\n0   540.0               0.0     0.0  162.0               2.5           1040.0   \n1   540.0               0.0     0.0  162.0               2.5           1055.0   \n2   332.5             142.5     0.0  228.0               0.0            932.0   \n3   332.5             142.5     0.0  228.0               0.0            932.0   \n4   198.6             132.4     0.0  192.0               0.0            978.4   \n\n   FineAggregate  Age  CompressiveStrength  \n0          676.0   28                79.99  \n1          676.0   28                61.89  \n2          594.0  270                40.27  \n3          594.0  365                41.05  \n4          825.5  360                44.30  ",
      "text/html": "<div>\n<style scoped>\n    .dataframe tbody tr th:only-of-type {\n        vertical-align: middle;\n    }\n\n    .dataframe tbody tr th {\n        vertical-align: top;\n    }\n\n    .dataframe thead th {\n        text-align: right;\n    }\n</style>\n<table border=\"1\" class=\"dataframe\">\n  <thead>\n    <tr style=\"text-align: right;\">\n      <th></th>\n      <th>Cement</th>\n      <th>BlastFurnaceSlag</th>\n      <th>FlyAsh</th>\n      <th>Water</th>\n      <th>Superplasticizer</th>\n      <th>CoarseAggregate</th>\n      <th>FineAggregate</th>\n      <th>Age</th>\n      <th>CompressiveStrength</th>\n    </tr>\n  </thead>\n  <tbody>\n    <tr>\n      <th>0</th>\n      <td>540.0</td>\n      <td>0.0</td>\n      <td>0.0</td>\n      <td>162.0</td>\n      <td>2.5</td>\n      <td>1040.0</td>\n      <td>676.0</td>\n      <td>28</td>\n      <td>79.99</td>\n    </tr>\n    <tr>\n      <th>1</th>\n      <td>540.0</td>\n      <td>0.0</td>\n      <td>0.0</td>\n      <td>162.0</td>\n      <td>2.5</td>\n      <td>1055.0</td>\n      <td>676.0</td>\n      <td>28</td>\n      <td>61.89</td>\n    </tr>\n    <tr>\n      <th>2</th>\n      <td>332.5</td>\n      <td>142.5</td>\n      <td>0.0</td>\n      <td>228.0</td>\n      <td>0.0</td>\n      <td>932.0</td>\n      <td>594.0</td>\n      <td>270</td>\n      <td>40.27</td>\n    </tr>\n    <tr>\n      <th>3</th>\n      <td>332.5</td>\n      <td>142.5</td>\n      <td>0.0</td>\n      <td>228.0</td>\n      <td>0.0</td>\n      <td>932.0</td>\n      <td>594.0</td>\n      <td>365</td>\n      <td>41.05</td>\n    </tr>\n    <tr>\n      <th>4</th>\n      <td>198.6</td>\n      <td>132.4</td>\n      <td>0.0</td>\n      <td>192.0</td>\n      <td>0.0</td>\n      <td>978.4</td>\n      <td>825.5</td>\n      <td>360</td>\n      <td>44.30</td>\n    </tr>\n  </tbody>\n</table>\n</div>"
     },
     "execution_count": 4,
     "metadata": {},
     "output_type": "execute_result"
    }
   ],
   "source": [
    "df.head()"
   ],
   "metadata": {
    "collapsed": false,
    "pycharm": {
     "name": "#%%\n"
    }
   }
  },
  {
   "cell_type": "markdown",
   "source": [
    "In above dataset show, you can notice the various ingredients of each variety of concrete.\n"
   ],
   "metadata": {
    "collapsed": false,
    "pycharm": {
     "name": "#%% md\n"
    }
   }
  },
  {
   "cell_type": "markdown",
   "source": [
    "### 1.4.2 The model\n",
    "\n",
    "The objective of the model that we will train is to predict a concrete's compressive strength given its formulation.\n",
    "\n",
    "### 1.4.3 Build a baseline (Train a model without feature engineering)\n",
    "\n",
    "We'll first establish a baseline by training the model with raw feature. This will help us determine whether `our new features` are actually better than the raw feature.\n",
    "\n",
    "Establishing baselines like this is **good practice** at the start of the feature engineering process. A baseline score can help you decide whether your new features are worth keeping, or whether you should discard them and possibly try something else.\n"
   ],
   "metadata": {
    "collapsed": false,
    "pycharm": {
     "name": "#%% md\n"
    }
   }
  },
  {
   "cell_type": "code",
   "execution_count": 19,
   "outputs": [],
   "source": [
    "def train_and_eval(features, label):\n",
    "    \"\"\"\n",
    "    This function takes a list of features and a label, then it uses these data to train a random forest model, at last it evaluate\n",
    "    the model with MAE score\n",
    "    :param features:\n",
    "    :param label:\n",
    "    :return:\n",
    "    \"\"\"\n",
    "    # train and score baseline model\n",
    "    model = RandomForestRegressor(criterion=\"absolute_error\", random_state=0)\n",
    "    score = cross_val_score(model, features, label, cv=5, scoring=\"neg_mean_absolute_error\")\n",
    "    score = -1 * score.mean()\n",
    "    print(f\"MAE Baseline Score: {score:.4}\")"
   ],
   "metadata": {
    "collapsed": false,
    "pycharm": {
     "name": "#%%\n"
    }
   }
  },
  {
   "cell_type": "code",
   "execution_count": 16,
   "outputs": [],
   "source": [
    "# prepare training data\n",
    "X = df.copy()\n",
    "y = X.pop(label_col)"
   ],
   "metadata": {
    "collapsed": false,
    "pycharm": {
     "name": "#%%\n"
    }
   }
  },
  {
   "cell_type": "code",
   "execution_count": 18,
   "outputs": [
    {
     "data": {
      "text/plain": "   Cement  BlastFurnaceSlag  FlyAsh  Water  Superplasticizer  CoarseAggregate  \\\n0   540.0               0.0     0.0  162.0               2.5           1040.0   \n1   540.0               0.0     0.0  162.0               2.5           1055.0   \n2   332.5             142.5     0.0  228.0               0.0            932.0   \n3   332.5             142.5     0.0  228.0               0.0            932.0   \n4   198.6             132.4     0.0  192.0               0.0            978.4   \n\n   FineAggregate  Age  \n0          676.0   28  \n1          676.0   28  \n2          594.0  270  \n3          594.0  365  \n4          825.5  360  ",
      "text/html": "<div>\n<style scoped>\n    .dataframe tbody tr th:only-of-type {\n        vertical-align: middle;\n    }\n\n    .dataframe tbody tr th {\n        vertical-align: top;\n    }\n\n    .dataframe thead th {\n        text-align: right;\n    }\n</style>\n<table border=\"1\" class=\"dataframe\">\n  <thead>\n    <tr style=\"text-align: right;\">\n      <th></th>\n      <th>Cement</th>\n      <th>BlastFurnaceSlag</th>\n      <th>FlyAsh</th>\n      <th>Water</th>\n      <th>Superplasticizer</th>\n      <th>CoarseAggregate</th>\n      <th>FineAggregate</th>\n      <th>Age</th>\n    </tr>\n  </thead>\n  <tbody>\n    <tr>\n      <th>0</th>\n      <td>540.0</td>\n      <td>0.0</td>\n      <td>0.0</td>\n      <td>162.0</td>\n      <td>2.5</td>\n      <td>1040.0</td>\n      <td>676.0</td>\n      <td>28</td>\n    </tr>\n    <tr>\n      <th>1</th>\n      <td>540.0</td>\n      <td>0.0</td>\n      <td>0.0</td>\n      <td>162.0</td>\n      <td>2.5</td>\n      <td>1055.0</td>\n      <td>676.0</td>\n      <td>28</td>\n    </tr>\n    <tr>\n      <th>2</th>\n      <td>332.5</td>\n      <td>142.5</td>\n      <td>0.0</td>\n      <td>228.0</td>\n      <td>0.0</td>\n      <td>932.0</td>\n      <td>594.0</td>\n      <td>270</td>\n    </tr>\n    <tr>\n      <th>3</th>\n      <td>332.5</td>\n      <td>142.5</td>\n      <td>0.0</td>\n      <td>228.0</td>\n      <td>0.0</td>\n      <td>932.0</td>\n      <td>594.0</td>\n      <td>365</td>\n    </tr>\n    <tr>\n      <th>4</th>\n      <td>198.6</td>\n      <td>132.4</td>\n      <td>0.0</td>\n      <td>192.0</td>\n      <td>0.0</td>\n      <td>978.4</td>\n      <td>825.5</td>\n      <td>360</td>\n    </tr>\n  </tbody>\n</table>\n</div>"
     },
     "execution_count": 18,
     "metadata": {},
     "output_type": "execute_result"
    }
   ],
   "source": [
    "X.head()"
   ],
   "metadata": {
    "collapsed": false,
    "pycharm": {
     "name": "#%%\n"
    }
   }
  },
  {
   "cell_type": "code",
   "execution_count": 20,
   "outputs": [
    {
     "name": "stderr",
     "output_type": "stream",
     "text": [
      "/home/pliu/.cache/pypoetry/virtualenvs/featureengineering-bT3Xpjje-py3.8/lib/python3.8/site-packages/sklearn/ensemble/_forest.py:407: FutureWarning: Criterion 'mae' was deprecated in v1.0 and will be removed in version 1.2. Use `criterion='absolute_error'` which is equivalent.\n",
      "  warn(\n",
      "/home/pliu/.cache/pypoetry/virtualenvs/featureengineering-bT3Xpjje-py3.8/lib/python3.8/site-packages/sklearn/ensemble/_forest.py:407: FutureWarning: Criterion 'mae' was deprecated in v1.0 and will be removed in version 1.2. Use `criterion='absolute_error'` which is equivalent.\n",
      "  warn(\n",
      "/home/pliu/.cache/pypoetry/virtualenvs/featureengineering-bT3Xpjje-py3.8/lib/python3.8/site-packages/sklearn/ensemble/_forest.py:407: FutureWarning: Criterion 'mae' was deprecated in v1.0 and will be removed in version 1.2. Use `criterion='absolute_error'` which is equivalent.\n",
      "  warn(\n",
      "/home/pliu/.cache/pypoetry/virtualenvs/featureengineering-bT3Xpjje-py3.8/lib/python3.8/site-packages/sklearn/ensemble/_forest.py:407: FutureWarning: Criterion 'mae' was deprecated in v1.0 and will be removed in version 1.2. Use `criterion='absolute_error'` which is equivalent.\n",
      "  warn(\n",
      "/home/pliu/.cache/pypoetry/virtualenvs/featureengineering-bT3Xpjje-py3.8/lib/python3.8/site-packages/sklearn/ensemble/_forest.py:407: FutureWarning: Criterion 'mae' was deprecated in v1.0 and will be removed in version 1.2. Use `criterion='absolute_error'` which is equivalent.\n",
      "  warn(\n"
     ]
    },
    {
     "name": "stdout",
     "output_type": "stream",
     "text": [
      "MAE Baseline Score: 8.232\n"
     ]
    }
   ],
   "source": [
    "train_and_eval(X,y)"
   ],
   "metadata": {
    "collapsed": false,
    "pycharm": {
     "name": "#%%\n"
    }
   }
  },
  {
   "cell_type": "markdown",
   "source": [
    "### 1.4.4 First attempt\n",
    "\n",
    "You might know that the **ratio of ingredients** in a recipe is usually a better predictor of how the recipe turns out than their **absolute amounts**. We might reason then that ratios of the features above would be a good predictor of CompressiveStrength.\n",
    "\n",
    "Let's check first the raw features"
   ],
   "metadata": {
    "collapsed": false,
    "pycharm": {
     "name": "#%% md\n"
    }
   }
  },
  {
   "cell_type": "code",
   "execution_count": 11,
   "outputs": [
    {
     "data": {
      "text/plain": "   Cement  BlastFurnaceSlag  FlyAsh  Water  Superplasticizer  CoarseAggregate  \\\n0   540.0               0.0     0.0  162.0               2.5           1040.0   \n1   540.0               0.0     0.0  162.0               2.5           1055.0   \n2   332.5             142.5     0.0  228.0               0.0            932.0   \n3   332.5             142.5     0.0  228.0               0.0            932.0   \n4   198.6             132.4     0.0  192.0               0.0            978.4   \n\n   FineAggregate  Age  \n0          676.0   28  \n1          676.0   28  \n2          594.0  270  \n3          594.0  365  \n4          825.5  360  ",
      "text/html": "<div>\n<style scoped>\n    .dataframe tbody tr th:only-of-type {\n        vertical-align: middle;\n    }\n\n    .dataframe tbody tr th {\n        vertical-align: top;\n    }\n\n    .dataframe thead th {\n        text-align: right;\n    }\n</style>\n<table border=\"1\" class=\"dataframe\">\n  <thead>\n    <tr style=\"text-align: right;\">\n      <th></th>\n      <th>Cement</th>\n      <th>BlastFurnaceSlag</th>\n      <th>FlyAsh</th>\n      <th>Water</th>\n      <th>Superplasticizer</th>\n      <th>CoarseAggregate</th>\n      <th>FineAggregate</th>\n      <th>Age</th>\n    </tr>\n  </thead>\n  <tbody>\n    <tr>\n      <th>0</th>\n      <td>540.0</td>\n      <td>0.0</td>\n      <td>0.0</td>\n      <td>162.0</td>\n      <td>2.5</td>\n      <td>1040.0</td>\n      <td>676.0</td>\n      <td>28</td>\n    </tr>\n    <tr>\n      <th>1</th>\n      <td>540.0</td>\n      <td>0.0</td>\n      <td>0.0</td>\n      <td>162.0</td>\n      <td>2.5</td>\n      <td>1055.0</td>\n      <td>676.0</td>\n      <td>28</td>\n    </tr>\n    <tr>\n      <th>2</th>\n      <td>332.5</td>\n      <td>142.5</td>\n      <td>0.0</td>\n      <td>228.0</td>\n      <td>0.0</td>\n      <td>932.0</td>\n      <td>594.0</td>\n      <td>270</td>\n    </tr>\n    <tr>\n      <th>3</th>\n      <td>332.5</td>\n      <td>142.5</td>\n      <td>0.0</td>\n      <td>228.0</td>\n      <td>0.0</td>\n      <td>932.0</td>\n      <td>594.0</td>\n      <td>365</td>\n    </tr>\n    <tr>\n      <th>4</th>\n      <td>198.6</td>\n      <td>132.4</td>\n      <td>0.0</td>\n      <td>192.0</td>\n      <td>0.0</td>\n      <td>978.4</td>\n      <td>825.5</td>\n      <td>360</td>\n    </tr>\n  </tbody>\n</table>\n</div>"
     },
     "execution_count": 11,
     "metadata": {},
     "output_type": "execute_result"
    }
   ],
   "source": [
    "X_1 = X\n",
    "X_1.head()"
   ],
   "metadata": {
    "collapsed": false,
    "pycharm": {
     "name": "#%%\n"
    }
   }
  },
  {
   "cell_type": "code",
   "execution_count": 10,
   "outputs": [
    {
     "data": {
      "text/plain": "0    79.99\n1    61.89\n2    40.27\n3    41.05\n4    44.30\nName: CompressiveStrength, dtype: float64"
     },
     "execution_count": 10,
     "metadata": {},
     "output_type": "execute_result"
    }
   ],
   "source": [
    "y.head()"
   ],
   "metadata": {
    "collapsed": false,
    "pycharm": {
     "name": "#%%\n"
    }
   }
  },
  {
   "cell_type": "markdown",
   "source": [
    "The cell below adds three new ratio features to the dataset.\n",
    "- Fine vs Coarse\n",
    "- Aggregate vs Cement\n",
    "- Water vs Cement"
   ],
   "metadata": {
    "collapsed": false,
    "pycharm": {
     "name": "#%% md\n"
    }
   }
  },
  {
   "cell_type": "code",
   "execution_count": 12,
   "outputs": [],
   "source": [
    "# Create synthetic features\n",
    "X_1[\"FCRatio\"] = X_1[\"FineAggregate\"] / X_1[\"CoarseAggregate\"]\n",
    "\n",
    "X_1[\"AggCmtRatio\"] = (X_1[\"CoarseAggregate\"] + X_1[\"FineAggregate\"]) / X_1[\"Cement\"]\n",
    "\n",
    "# water cement ratio\n",
    "X_1[\"WtrCmtRatio\"] = X_1[\"Water\"] / X_1[\"Cement\"]"
   ],
   "metadata": {
    "collapsed": false,
    "pycharm": {
     "name": "#%%\n"
    }
   }
  },
  {
   "cell_type": "code",
   "execution_count": 13,
   "outputs": [
    {
     "data": {
      "text/plain": "   Cement  BlastFurnaceSlag  FlyAsh  Water  Superplasticizer  CoarseAggregate  \\\n0   540.0               0.0     0.0  162.0               2.5           1040.0   \n1   540.0               0.0     0.0  162.0               2.5           1055.0   \n2   332.5             142.5     0.0  228.0               0.0            932.0   \n3   332.5             142.5     0.0  228.0               0.0            932.0   \n4   198.6             132.4     0.0  192.0               0.0            978.4   \n\n   FineAggregate  Age   FCRatio  AggCmtRatio  WtrCmtRatio  \n0          676.0   28  0.650000     3.177778     0.300000  \n1          676.0   28  0.640758     3.205556     0.300000  \n2          594.0  270  0.637339     4.589474     0.685714  \n3          594.0  365  0.637339     4.589474     0.685714  \n4          825.5  360  0.843724     9.083082     0.966767  ",
      "text/html": "<div>\n<style scoped>\n    .dataframe tbody tr th:only-of-type {\n        vertical-align: middle;\n    }\n\n    .dataframe tbody tr th {\n        vertical-align: top;\n    }\n\n    .dataframe thead th {\n        text-align: right;\n    }\n</style>\n<table border=\"1\" class=\"dataframe\">\n  <thead>\n    <tr style=\"text-align: right;\">\n      <th></th>\n      <th>Cement</th>\n      <th>BlastFurnaceSlag</th>\n      <th>FlyAsh</th>\n      <th>Water</th>\n      <th>Superplasticizer</th>\n      <th>CoarseAggregate</th>\n      <th>FineAggregate</th>\n      <th>Age</th>\n      <th>FCRatio</th>\n      <th>AggCmtRatio</th>\n      <th>WtrCmtRatio</th>\n    </tr>\n  </thead>\n  <tbody>\n    <tr>\n      <th>0</th>\n      <td>540.0</td>\n      <td>0.0</td>\n      <td>0.0</td>\n      <td>162.0</td>\n      <td>2.5</td>\n      <td>1040.0</td>\n      <td>676.0</td>\n      <td>28</td>\n      <td>0.650000</td>\n      <td>3.177778</td>\n      <td>0.300000</td>\n    </tr>\n    <tr>\n      <th>1</th>\n      <td>540.0</td>\n      <td>0.0</td>\n      <td>0.0</td>\n      <td>162.0</td>\n      <td>2.5</td>\n      <td>1055.0</td>\n      <td>676.0</td>\n      <td>28</td>\n      <td>0.640758</td>\n      <td>3.205556</td>\n      <td>0.300000</td>\n    </tr>\n    <tr>\n      <th>2</th>\n      <td>332.5</td>\n      <td>142.5</td>\n      <td>0.0</td>\n      <td>228.0</td>\n      <td>0.0</td>\n      <td>932.0</td>\n      <td>594.0</td>\n      <td>270</td>\n      <td>0.637339</td>\n      <td>4.589474</td>\n      <td>0.685714</td>\n    </tr>\n    <tr>\n      <th>3</th>\n      <td>332.5</td>\n      <td>142.5</td>\n      <td>0.0</td>\n      <td>228.0</td>\n      <td>0.0</td>\n      <td>932.0</td>\n      <td>594.0</td>\n      <td>365</td>\n      <td>0.637339</td>\n      <td>4.589474</td>\n      <td>0.685714</td>\n    </tr>\n    <tr>\n      <th>4</th>\n      <td>198.6</td>\n      <td>132.4</td>\n      <td>0.0</td>\n      <td>192.0</td>\n      <td>0.0</td>\n      <td>978.4</td>\n      <td>825.5</td>\n      <td>360</td>\n      <td>0.843724</td>\n      <td>9.083082</td>\n      <td>0.966767</td>\n    </tr>\n  </tbody>\n</table>\n</div>"
     },
     "execution_count": 13,
     "metadata": {},
     "output_type": "execute_result"
    }
   ],
   "source": [
    "X_1.head()"
   ],
   "metadata": {
    "collapsed": false,
    "pycharm": {
     "name": "#%%\n"
    }
   }
  },
  {
   "cell_type": "code",
   "execution_count": 21,
   "outputs": [
    {
     "name": "stderr",
     "output_type": "stream",
     "text": [
      "/home/pliu/.cache/pypoetry/virtualenvs/featureengineering-bT3Xpjje-py3.8/lib/python3.8/site-packages/sklearn/ensemble/_forest.py:407: FutureWarning: Criterion 'mae' was deprecated in v1.0 and will be removed in version 1.2. Use `criterion='absolute_error'` which is equivalent.\n",
      "  warn(\n",
      "/home/pliu/.cache/pypoetry/virtualenvs/featureengineering-bT3Xpjje-py3.8/lib/python3.8/site-packages/sklearn/ensemble/_forest.py:407: FutureWarning: Criterion 'mae' was deprecated in v1.0 and will be removed in version 1.2. Use `criterion='absolute_error'` which is equivalent.\n",
      "  warn(\n",
      "/home/pliu/.cache/pypoetry/virtualenvs/featureengineering-bT3Xpjje-py3.8/lib/python3.8/site-packages/sklearn/ensemble/_forest.py:407: FutureWarning: Criterion 'mae' was deprecated in v1.0 and will be removed in version 1.2. Use `criterion='absolute_error'` which is equivalent.\n",
      "  warn(\n",
      "/home/pliu/.cache/pypoetry/virtualenvs/featureengineering-bT3Xpjje-py3.8/lib/python3.8/site-packages/sklearn/ensemble/_forest.py:407: FutureWarning: Criterion 'mae' was deprecated in v1.0 and will be removed in version 1.2. Use `criterion='absolute_error'` which is equivalent.\n",
      "  warn(\n",
      "/home/pliu/.cache/pypoetry/virtualenvs/featureengineering-bT3Xpjje-py3.8/lib/python3.8/site-packages/sklearn/ensemble/_forest.py:407: FutureWarning: Criterion 'mae' was deprecated in v1.0 and will be removed in version 1.2. Use `criterion='absolute_error'` which is equivalent.\n",
      "  warn(\n"
     ]
    },
    {
     "name": "stdout",
     "output_type": "stream",
     "text": [
      "MAE Baseline Score: 7.948\n"
     ]
    }
   ],
   "source": [
    "train_and_eval(X_1,y)"
   ],
   "metadata": {
    "collapsed": false,
    "pycharm": {
     "name": "#%%\n"
    }
   }
  },
  {
   "cell_type": "markdown",
   "source": [
    "You can notice that the MAE score decreased from 8.232 to 7.948. So the performance of the model improved a little. This is the evidence that the these new ratio features exposed important information to the model that it wasn't detecting before."
   ],
   "metadata": {
    "collapsed": false,
    "pycharm": {
     "name": "#%% md\n"
    }
   }
  }
 ],
 "metadata": {
  "kernelspec": {
   "display_name": "Python 3",
   "language": "python",
   "name": "python3"
  },
  "language_info": {
   "codemirror_mode": {
    "name": "ipython",
    "version": 2
   },
   "file_extension": ".py",
   "mimetype": "text/x-python",
   "name": "python",
   "nbconvert_exporter": "python",
   "pygments_lexer": "ipython2",
   "version": "2.7.6"
  }
 },
 "nbformat": 4,
 "nbformat_minor": 0
}
