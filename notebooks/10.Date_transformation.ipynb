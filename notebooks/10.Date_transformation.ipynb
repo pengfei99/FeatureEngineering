{
 "cells": [
  {
   "cell_type": "markdown",
   "metadata": {
    "collapsed": true,
    "pycharm": {
     "name": "#%% md\n"
    }
   },
   "source": [
    "# 10 Date transformation\n"
   ]
  },
  {
   "cell_type": "code",
   "execution_count": 1,
   "outputs": [],
   "source": [
    "import pandas as pd"
   ],
   "metadata": {
    "collapsed": false,
    "pycharm": {
     "name": "#%%\n"
    }
   }
  },
  {
   "cell_type": "code",
   "execution_count": 3,
   "outputs": [],
   "source": [
    "from datetime import date\n",
    "\n",
    "pdf = pd.DataFrame({'date':\n",
    "['01-01-2017',\n",
    "'04-12-2008',\n",
    "'23-06-1988',\n",
    "'25-08-1999',\n",
    "'20-02-1993',\n",
    "]})\n",
    "\n",
    "#Transform string to date\n",
    "pdf['date'] = pd.to_datetime(pdf.date, format=\"%d-%m-%Y\")"
   ],
   "metadata": {
    "collapsed": false,
    "pycharm": {
     "name": "#%%\n"
    }
   }
  },
  {
   "cell_type": "code",
   "execution_count": 4,
   "outputs": [
    {
     "data": {
      "text/plain": "        date\n0 2017-01-01\n1 2008-12-04\n2 1988-06-23\n3 1999-08-25\n4 1993-02-20",
      "text/html": "<div>\n<style scoped>\n    .dataframe tbody tr th:only-of-type {\n        vertical-align: middle;\n    }\n\n    .dataframe tbody tr th {\n        vertical-align: top;\n    }\n\n    .dataframe thead th {\n        text-align: right;\n    }\n</style>\n<table border=\"1\" class=\"dataframe\">\n  <thead>\n    <tr style=\"text-align: right;\">\n      <th></th>\n      <th>date</th>\n    </tr>\n  </thead>\n  <tbody>\n    <tr>\n      <th>0</th>\n      <td>2017-01-01</td>\n    </tr>\n    <tr>\n      <th>1</th>\n      <td>2008-12-04</td>\n    </tr>\n    <tr>\n      <th>2</th>\n      <td>1988-06-23</td>\n    </tr>\n    <tr>\n      <th>3</th>\n      <td>1999-08-25</td>\n    </tr>\n    <tr>\n      <th>4</th>\n      <td>1993-02-20</td>\n    </tr>\n  </tbody>\n</table>\n</div>"
     },
     "execution_count": 4,
     "metadata": {},
     "output_type": "execute_result"
    }
   ],
   "source": [
    "pdf.head()"
   ],
   "metadata": {
    "collapsed": false,
    "pycharm": {
     "name": "#%%\n"
    }
   }
  },
  {
   "cell_type": "markdown",
   "source": [
    "# 10.1 Explode date\n",
    "\n",
    "Extracting the parts of the date into different columns: Year, month, day"
   ],
   "metadata": {
    "collapsed": false,
    "pycharm": {
     "name": "#%% md\n"
    }
   }
  },
  {
   "cell_type": "code",
   "execution_count": 5,
   "outputs": [
    {
     "data": {
      "text/plain": "        date  year\n0 2017-01-01  2017\n1 2008-12-04  2008\n2 1988-06-23  1988\n3 1999-08-25  1999\n4 1993-02-20  1993",
      "text/html": "<div>\n<style scoped>\n    .dataframe tbody tr th:only-of-type {\n        vertical-align: middle;\n    }\n\n    .dataframe tbody tr th {\n        vertical-align: top;\n    }\n\n    .dataframe thead th {\n        text-align: right;\n    }\n</style>\n<table border=\"1\" class=\"dataframe\">\n  <thead>\n    <tr style=\"text-align: right;\">\n      <th></th>\n      <th>date</th>\n      <th>year</th>\n    </tr>\n  </thead>\n  <tbody>\n    <tr>\n      <th>0</th>\n      <td>2017-01-01</td>\n      <td>2017</td>\n    </tr>\n    <tr>\n      <th>1</th>\n      <td>2008-12-04</td>\n      <td>2008</td>\n    </tr>\n    <tr>\n      <th>2</th>\n      <td>1988-06-23</td>\n      <td>1988</td>\n    </tr>\n    <tr>\n      <th>3</th>\n      <td>1999-08-25</td>\n      <td>1999</td>\n    </tr>\n    <tr>\n      <th>4</th>\n      <td>1993-02-20</td>\n      <td>1993</td>\n    </tr>\n  </tbody>\n</table>\n</div>"
     },
     "execution_count": 5,
     "metadata": {},
     "output_type": "execute_result"
    }
   ],
   "source": [
    "res=pdf.copy()\n",
    "#Extracting Year\n",
    "res['year'] = res['date'].dt.year\n",
    "\n",
    "res.head()\n"
   ],
   "metadata": {
    "collapsed": false,
    "pycharm": {
     "name": "#%%\n"
    }
   }
  },
  {
   "cell_type": "code",
   "execution_count": 6,
   "outputs": [
    {
     "data": {
      "text/plain": "        date  year  month\n0 2017-01-01  2017      1\n1 2008-12-04  2008     12\n2 1988-06-23  1988      6\n3 1999-08-25  1999      8\n4 1993-02-20  1993      2",
      "text/html": "<div>\n<style scoped>\n    .dataframe tbody tr th:only-of-type {\n        vertical-align: middle;\n    }\n\n    .dataframe tbody tr th {\n        vertical-align: top;\n    }\n\n    .dataframe thead th {\n        text-align: right;\n    }\n</style>\n<table border=\"1\" class=\"dataframe\">\n  <thead>\n    <tr style=\"text-align: right;\">\n      <th></th>\n      <th>date</th>\n      <th>year</th>\n      <th>month</th>\n    </tr>\n  </thead>\n  <tbody>\n    <tr>\n      <th>0</th>\n      <td>2017-01-01</td>\n      <td>2017</td>\n      <td>1</td>\n    </tr>\n    <tr>\n      <th>1</th>\n      <td>2008-12-04</td>\n      <td>2008</td>\n      <td>12</td>\n    </tr>\n    <tr>\n      <th>2</th>\n      <td>1988-06-23</td>\n      <td>1988</td>\n      <td>6</td>\n    </tr>\n    <tr>\n      <th>3</th>\n      <td>1999-08-25</td>\n      <td>1999</td>\n      <td>8</td>\n    </tr>\n    <tr>\n      <th>4</th>\n      <td>1993-02-20</td>\n      <td>1993</td>\n      <td>2</td>\n    </tr>\n  </tbody>\n</table>\n</div>"
     },
     "execution_count": 6,
     "metadata": {},
     "output_type": "execute_result"
    }
   ],
   "source": [
    "#Extracting Month\n",
    "res['month'] = res['date'].dt.month\n",
    "\n",
    "res.head()"
   ],
   "metadata": {
    "collapsed": false,
    "pycharm": {
     "name": "#%%\n"
    }
   }
  },
  {
   "cell_type": "code",
   "execution_count": 7,
   "outputs": [
    {
     "data": {
      "text/plain": "        date  year  month  day\n0 2017-01-01  2017      1    1\n1 2008-12-04  2008     12    4\n2 1988-06-23  1988      6   23\n3 1999-08-25  1999      8   25\n4 1993-02-20  1993      2   20",
      "text/html": "<div>\n<style scoped>\n    .dataframe tbody tr th:only-of-type {\n        vertical-align: middle;\n    }\n\n    .dataframe tbody tr th {\n        vertical-align: top;\n    }\n\n    .dataframe thead th {\n        text-align: right;\n    }\n</style>\n<table border=\"1\" class=\"dataframe\">\n  <thead>\n    <tr style=\"text-align: right;\">\n      <th></th>\n      <th>date</th>\n      <th>year</th>\n      <th>month</th>\n      <th>day</th>\n    </tr>\n  </thead>\n  <tbody>\n    <tr>\n      <th>0</th>\n      <td>2017-01-01</td>\n      <td>2017</td>\n      <td>1</td>\n      <td>1</td>\n    </tr>\n    <tr>\n      <th>1</th>\n      <td>2008-12-04</td>\n      <td>2008</td>\n      <td>12</td>\n      <td>4</td>\n    </tr>\n    <tr>\n      <th>2</th>\n      <td>1988-06-23</td>\n      <td>1988</td>\n      <td>6</td>\n      <td>23</td>\n    </tr>\n    <tr>\n      <th>3</th>\n      <td>1999-08-25</td>\n      <td>1999</td>\n      <td>8</td>\n      <td>25</td>\n    </tr>\n    <tr>\n      <th>4</th>\n      <td>1993-02-20</td>\n      <td>1993</td>\n      <td>2</td>\n      <td>20</td>\n    </tr>\n  </tbody>\n</table>\n</div>"
     },
     "execution_count": 7,
     "metadata": {},
     "output_type": "execute_result"
    }
   ],
   "source": [
    "#Extracting day\n",
    "res['day'] = res['date'].dt.day\n",
    "\n",
    "res.head()"
   ],
   "metadata": {
    "collapsed": false,
    "pycharm": {
     "name": "#%%\n"
    }
   }
  },
  {
   "cell_type": "markdown",
   "source": [
    "## 10.2 Calculate the time period\n",
    "\n",
    "Extracting the time period between the current date and columns in terms of years, months, days, etc."
   ],
   "metadata": {
    "collapsed": false,
    "pycharm": {
     "name": "#%% md\n"
    }
   }
  },
  {
   "cell_type": "code",
   "execution_count": 8,
   "outputs": [
    {
     "data": {
      "text/plain": "        date  passed_years\n0 2017-01-01             5\n1 2008-12-04            14\n2 1988-06-23            34\n3 1999-08-25            23\n4 1993-02-20            29",
      "text/html": "<div>\n<style scoped>\n    .dataframe tbody tr th:only-of-type {\n        vertical-align: middle;\n    }\n\n    .dataframe tbody tr th {\n        vertical-align: top;\n    }\n\n    .dataframe thead th {\n        text-align: right;\n    }\n</style>\n<table border=\"1\" class=\"dataframe\">\n  <thead>\n    <tr style=\"text-align: right;\">\n      <th></th>\n      <th>date</th>\n      <th>passed_years</th>\n    </tr>\n  </thead>\n  <tbody>\n    <tr>\n      <th>0</th>\n      <td>2017-01-01</td>\n      <td>5</td>\n    </tr>\n    <tr>\n      <th>1</th>\n      <td>2008-12-04</td>\n      <td>14</td>\n    </tr>\n    <tr>\n      <th>2</th>\n      <td>1988-06-23</td>\n      <td>34</td>\n    </tr>\n    <tr>\n      <th>3</th>\n      <td>1999-08-25</td>\n      <td>23</td>\n    </tr>\n    <tr>\n      <th>4</th>\n      <td>1993-02-20</td>\n      <td>29</td>\n    </tr>\n  </tbody>\n</table>\n</div>"
     },
     "execution_count": 8,
     "metadata": {},
     "output_type": "execute_result"
    }
   ],
   "source": [
    "period=pdf.copy()\n",
    "\n",
    "#Extracting passed years since the date\n",
    "period['passed_years'] = date.today().year - period['date'].dt.year\n",
    "period.head()"
   ],
   "metadata": {
    "collapsed": false,
    "pycharm": {
     "name": "#%%\n"
    }
   }
  },
  {
   "cell_type": "code",
   "execution_count": 9,
   "outputs": [
    {
     "data": {
      "text/plain": "        date  passed_years  passed_months\n0 2017-01-01             5             66\n1 2008-12-04            14            163\n2 1988-06-23            34            409\n3 1999-08-25            23            275\n4 1993-02-20            29            353",
      "text/html": "<div>\n<style scoped>\n    .dataframe tbody tr th:only-of-type {\n        vertical-align: middle;\n    }\n\n    .dataframe tbody tr th {\n        vertical-align: top;\n    }\n\n    .dataframe thead th {\n        text-align: right;\n    }\n</style>\n<table border=\"1\" class=\"dataframe\">\n  <thead>\n    <tr style=\"text-align: right;\">\n      <th></th>\n      <th>date</th>\n      <th>passed_years</th>\n      <th>passed_months</th>\n    </tr>\n  </thead>\n  <tbody>\n    <tr>\n      <th>0</th>\n      <td>2017-01-01</td>\n      <td>5</td>\n      <td>66</td>\n    </tr>\n    <tr>\n      <th>1</th>\n      <td>2008-12-04</td>\n      <td>14</td>\n      <td>163</td>\n    </tr>\n    <tr>\n      <th>2</th>\n      <td>1988-06-23</td>\n      <td>34</td>\n      <td>409</td>\n    </tr>\n    <tr>\n      <th>3</th>\n      <td>1999-08-25</td>\n      <td>23</td>\n      <td>275</td>\n    </tr>\n    <tr>\n      <th>4</th>\n      <td>1993-02-20</td>\n      <td>29</td>\n      <td>353</td>\n    </tr>\n  </tbody>\n</table>\n</div>"
     },
     "execution_count": 9,
     "metadata": {},
     "output_type": "execute_result"
    }
   ],
   "source": [
    "#Extracting passed months since the date\n",
    "period['passed_months'] = (date.today().year - period['date'].dt.year) * 12 + date.today().month - period['date'].dt.month\n",
    "\n",
    "period.head()"
   ],
   "metadata": {
    "collapsed": false,
    "pycharm": {
     "name": "#%%\n"
    }
   }
  },
  {
   "cell_type": "markdown",
   "source": [
    "## 10.3 Get special day marks\n",
    "\n",
    "Extracting some specific features from the date: Name of the weekday, Weekend or not, holiday or not, etc."
   ],
   "metadata": {
    "collapsed": false,
    "pycharm": {
     "name": "#%% md\n"
    }
   }
  },
  {
   "cell_type": "code",
   "execution_count": 10,
   "outputs": [
    {
     "data": {
      "text/plain": "        date   day_name\n0 2017-01-01     Sunday\n1 2008-12-04   Thursday\n2 1988-06-23   Thursday\n3 1999-08-25  Wednesday\n4 1993-02-20   Saturday",
      "text/html": "<div>\n<style scoped>\n    .dataframe tbody tr th:only-of-type {\n        vertical-align: middle;\n    }\n\n    .dataframe tbody tr th {\n        vertical-align: top;\n    }\n\n    .dataframe thead th {\n        text-align: right;\n    }\n</style>\n<table border=\"1\" class=\"dataframe\">\n  <thead>\n    <tr style=\"text-align: right;\">\n      <th></th>\n      <th>date</th>\n      <th>day_name</th>\n    </tr>\n  </thead>\n  <tbody>\n    <tr>\n      <th>0</th>\n      <td>2017-01-01</td>\n      <td>Sunday</td>\n    </tr>\n    <tr>\n      <th>1</th>\n      <td>2008-12-04</td>\n      <td>Thursday</td>\n    </tr>\n    <tr>\n      <th>2</th>\n      <td>1988-06-23</td>\n      <td>Thursday</td>\n    </tr>\n    <tr>\n      <th>3</th>\n      <td>1999-08-25</td>\n      <td>Wednesday</td>\n    </tr>\n    <tr>\n      <th>4</th>\n      <td>1993-02-20</td>\n      <td>Saturday</td>\n    </tr>\n  </tbody>\n</table>\n</div>"
     },
     "execution_count": 10,
     "metadata": {},
     "output_type": "execute_result"
    }
   ],
   "source": [
    "special_day=pdf.copy()\n",
    "\n",
    "\n",
    "#Extracting the weekday name of the date\n",
    "special_day['day_name'] = special_day['date'].dt.day_name()\n",
    "\n",
    "special_day.head()"
   ],
   "metadata": {
    "collapsed": false,
    "pycharm": {
     "name": "#%%\n"
    }
   }
  },
  {
   "cell_type": "code",
   "execution_count": null,
   "outputs": [],
   "source": [],
   "metadata": {
    "collapsed": false,
    "pycharm": {
     "name": "#%%\n"
    }
   }
  }
 ],
 "metadata": {
  "kernelspec": {
   "display_name": "Python 3",
   "language": "python",
   "name": "python3"
  },
  "language_info": {
   "codemirror_mode": {
    "name": "ipython",
    "version": 2
   },
   "file_extension": ".py",
   "mimetype": "text/x-python",
   "name": "python",
   "nbconvert_exporter": "python",
   "pygments_lexer": "ipython2",
   "version": "2.7.6"
  }
 },
 "nbformat": 4,
 "nbformat_minor": 0
}