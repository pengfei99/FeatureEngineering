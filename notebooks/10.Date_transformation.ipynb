{
 "cells": [
  {
   "cell_type": "markdown",
   "metadata": {
    "collapsed": true,
    "pycharm": {
     "name": "#%% md\n"
    }
   },
   "source": [
    "# 10 Date transformation\n"
   ]
  },
  {
   "cell_type": "code",
   "execution_count": 1,
   "outputs": [],
   "source": [
    "import pandas as pd"
   ],
   "metadata": {
    "collapsed": false,
    "pycharm": {
     "name": "#%%\n"
    }
   }
  },
  {
   "cell_type": "code",
   "execution_count": 3,
   "outputs": [],
   "source": [
    "from datetime import date\n",
    "\n",
    "pdf = pd.DataFrame({'date':\n",
    "['01-01-2017',\n",
    "'04-12-2008',\n",
    "'23-06-1988',\n",
    "'25-08-1999',\n",
    "'20-02-1993',\n",
    "]})\n",
    "\n",
    "#Transform string to date\n",
    "pdf['date'] = pd.to_datetime(pdf.date, format=\"%d-%m-%Y\")"
   ],
   "metadata": {
    "collapsed": false,
    "pycharm": {
     "name": "#%%\n"
    }
   }
  },
  {
   "cell_type": "code",
   "execution_count": 4,
   "outputs": [
    {
     "data": {
      "text/plain": "        date\n0 2017-01-01\n1 2008-12-04\n2 1988-06-23\n3 1999-08-25\n4 1993-02-20",
      "text/html": "<div>\n<style scoped>\n    .dataframe tbody tr th:only-of-type {\n        vertical-align: middle;\n    }\n\n    .dataframe tbody tr th {\n        vertical-align: top;\n    }\n\n    .dataframe thead th {\n        text-align: right;\n    }\n</style>\n<table border=\"1\" class=\"dataframe\">\n  <thead>\n    <tr style=\"text-align: right;\">\n      <th></th>\n      <th>date</th>\n    </tr>\n  </thead>\n  <tbody>\n    <tr>\n      <th>0</th>\n      <td>2017-01-01</td>\n    </tr>\n    <tr>\n      <th>1</th>\n      <td>2008-12-04</td>\n    </tr>\n    <tr>\n      <th>2</th>\n      <td>1988-06-23</td>\n    </tr>\n    <tr>\n      <th>3</th>\n      <td>1999-08-25</td>\n    </tr>\n    <tr>\n      <th>4</th>\n      <td>1993-02-20</td>\n    </tr>\n  </tbody>\n</table>\n</div>"
     },
     "execution_count": 4,
     "metadata": {},
     "output_type": "execute_result"
    }
   ],
   "source": [
    "pdf.head()"
   ],
   "metadata": {
    "collapsed": false,
    "pycharm": {
     "name": "#%%\n"
    }
   }
  },
  {
   "cell_type": "markdown",
   "source": [
    "# 10.1 Transform date with pandas\n",
    "\n",
    "## 10.1.1 Explode date\n",
    "\n",
    "Extracting the parts of the date into different columns: Year, month, day"
   ],
   "metadata": {
    "collapsed": false,
    "pycharm": {
     "name": "#%% md\n"
    }
   }
  },
  {
   "cell_type": "code",
   "execution_count": 5,
   "outputs": [
    {
     "data": {
      "text/plain": "        date  year\n0 2017-01-01  2017\n1 2008-12-04  2008\n2 1988-06-23  1988\n3 1999-08-25  1999\n4 1993-02-20  1993",
      "text/html": "<div>\n<style scoped>\n    .dataframe tbody tr th:only-of-type {\n        vertical-align: middle;\n    }\n\n    .dataframe tbody tr th {\n        vertical-align: top;\n    }\n\n    .dataframe thead th {\n        text-align: right;\n    }\n</style>\n<table border=\"1\" class=\"dataframe\">\n  <thead>\n    <tr style=\"text-align: right;\">\n      <th></th>\n      <th>date</th>\n      <th>year</th>\n    </tr>\n  </thead>\n  <tbody>\n    <tr>\n      <th>0</th>\n      <td>2017-01-01</td>\n      <td>2017</td>\n    </tr>\n    <tr>\n      <th>1</th>\n      <td>2008-12-04</td>\n      <td>2008</td>\n    </tr>\n    <tr>\n      <th>2</th>\n      <td>1988-06-23</td>\n      <td>1988</td>\n    </tr>\n    <tr>\n      <th>3</th>\n      <td>1999-08-25</td>\n      <td>1999</td>\n    </tr>\n    <tr>\n      <th>4</th>\n      <td>1993-02-20</td>\n      <td>1993</td>\n    </tr>\n  </tbody>\n</table>\n</div>"
     },
     "execution_count": 5,
     "metadata": {},
     "output_type": "execute_result"
    }
   ],
   "source": [
    "res=pdf.copy()\n",
    "#Extracting Year\n",
    "res['year'] = res['date'].dt.year\n",
    "\n",
    "res.head()\n"
   ],
   "metadata": {
    "collapsed": false,
    "pycharm": {
     "name": "#%%\n"
    }
   }
  },
  {
   "cell_type": "code",
   "execution_count": 6,
   "outputs": [
    {
     "data": {
      "text/plain": "        date  year  month\n0 2017-01-01  2017      1\n1 2008-12-04  2008     12\n2 1988-06-23  1988      6\n3 1999-08-25  1999      8\n4 1993-02-20  1993      2",
      "text/html": "<div>\n<style scoped>\n    .dataframe tbody tr th:only-of-type {\n        vertical-align: middle;\n    }\n\n    .dataframe tbody tr th {\n        vertical-align: top;\n    }\n\n    .dataframe thead th {\n        text-align: right;\n    }\n</style>\n<table border=\"1\" class=\"dataframe\">\n  <thead>\n    <tr style=\"text-align: right;\">\n      <th></th>\n      <th>date</th>\n      <th>year</th>\n      <th>month</th>\n    </tr>\n  </thead>\n  <tbody>\n    <tr>\n      <th>0</th>\n      <td>2017-01-01</td>\n      <td>2017</td>\n      <td>1</td>\n    </tr>\n    <tr>\n      <th>1</th>\n      <td>2008-12-04</td>\n      <td>2008</td>\n      <td>12</td>\n    </tr>\n    <tr>\n      <th>2</th>\n      <td>1988-06-23</td>\n      <td>1988</td>\n      <td>6</td>\n    </tr>\n    <tr>\n      <th>3</th>\n      <td>1999-08-25</td>\n      <td>1999</td>\n      <td>8</td>\n    </tr>\n    <tr>\n      <th>4</th>\n      <td>1993-02-20</td>\n      <td>1993</td>\n      <td>2</td>\n    </tr>\n  </tbody>\n</table>\n</div>"
     },
     "execution_count": 6,
     "metadata": {},
     "output_type": "execute_result"
    }
   ],
   "source": [
    "#Extracting Month\n",
    "res['month'] = res['date'].dt.month\n",
    "\n",
    "res.head()"
   ],
   "metadata": {
    "collapsed": false,
    "pycharm": {
     "name": "#%%\n"
    }
   }
  },
  {
   "cell_type": "code",
   "execution_count": 7,
   "outputs": [
    {
     "data": {
      "text/plain": "        date  year  month  day\n0 2017-01-01  2017      1    1\n1 2008-12-04  2008     12    4\n2 1988-06-23  1988      6   23\n3 1999-08-25  1999      8   25\n4 1993-02-20  1993      2   20",
      "text/html": "<div>\n<style scoped>\n    .dataframe tbody tr th:only-of-type {\n        vertical-align: middle;\n    }\n\n    .dataframe tbody tr th {\n        vertical-align: top;\n    }\n\n    .dataframe thead th {\n        text-align: right;\n    }\n</style>\n<table border=\"1\" class=\"dataframe\">\n  <thead>\n    <tr style=\"text-align: right;\">\n      <th></th>\n      <th>date</th>\n      <th>year</th>\n      <th>month</th>\n      <th>day</th>\n    </tr>\n  </thead>\n  <tbody>\n    <tr>\n      <th>0</th>\n      <td>2017-01-01</td>\n      <td>2017</td>\n      <td>1</td>\n      <td>1</td>\n    </tr>\n    <tr>\n      <th>1</th>\n      <td>2008-12-04</td>\n      <td>2008</td>\n      <td>12</td>\n      <td>4</td>\n    </tr>\n    <tr>\n      <th>2</th>\n      <td>1988-06-23</td>\n      <td>1988</td>\n      <td>6</td>\n      <td>23</td>\n    </tr>\n    <tr>\n      <th>3</th>\n      <td>1999-08-25</td>\n      <td>1999</td>\n      <td>8</td>\n      <td>25</td>\n    </tr>\n    <tr>\n      <th>4</th>\n      <td>1993-02-20</td>\n      <td>1993</td>\n      <td>2</td>\n      <td>20</td>\n    </tr>\n  </tbody>\n</table>\n</div>"
     },
     "execution_count": 7,
     "metadata": {},
     "output_type": "execute_result"
    }
   ],
   "source": [
    "#Extracting day\n",
    "res['day'] = res['date'].dt.day\n",
    "\n",
    "res.head()"
   ],
   "metadata": {
    "collapsed": false,
    "pycharm": {
     "name": "#%%\n"
    }
   }
  },
  {
   "cell_type": "markdown",
   "source": [
    "## 10.1.2 Calculate the time period\n",
    "\n",
    "Extracting the time period between the current date and columns in terms of years, months, days, etc."
   ],
   "metadata": {
    "collapsed": false,
    "pycharm": {
     "name": "#%% md\n"
    }
   }
  },
  {
   "cell_type": "code",
   "execution_count": 8,
   "outputs": [
    {
     "data": {
      "text/plain": "        date  passed_years\n0 2017-01-01             5\n1 2008-12-04            14\n2 1988-06-23            34\n3 1999-08-25            23\n4 1993-02-20            29",
      "text/html": "<div>\n<style scoped>\n    .dataframe tbody tr th:only-of-type {\n        vertical-align: middle;\n    }\n\n    .dataframe tbody tr th {\n        vertical-align: top;\n    }\n\n    .dataframe thead th {\n        text-align: right;\n    }\n</style>\n<table border=\"1\" class=\"dataframe\">\n  <thead>\n    <tr style=\"text-align: right;\">\n      <th></th>\n      <th>date</th>\n      <th>passed_years</th>\n    </tr>\n  </thead>\n  <tbody>\n    <tr>\n      <th>0</th>\n      <td>2017-01-01</td>\n      <td>5</td>\n    </tr>\n    <tr>\n      <th>1</th>\n      <td>2008-12-04</td>\n      <td>14</td>\n    </tr>\n    <tr>\n      <th>2</th>\n      <td>1988-06-23</td>\n      <td>34</td>\n    </tr>\n    <tr>\n      <th>3</th>\n      <td>1999-08-25</td>\n      <td>23</td>\n    </tr>\n    <tr>\n      <th>4</th>\n      <td>1993-02-20</td>\n      <td>29</td>\n    </tr>\n  </tbody>\n</table>\n</div>"
     },
     "execution_count": 8,
     "metadata": {},
     "output_type": "execute_result"
    }
   ],
   "source": [
    "period=pdf.copy()\n",
    "\n",
    "#Extracting passed years since the date\n",
    "period['passed_years'] = date.today().year - period['date'].dt.year\n",
    "period.head()"
   ],
   "metadata": {
    "collapsed": false,
    "pycharm": {
     "name": "#%%\n"
    }
   }
  },
  {
   "cell_type": "code",
   "execution_count": 9,
   "outputs": [
    {
     "data": {
      "text/plain": "        date  passed_years  passed_months\n0 2017-01-01             5             66\n1 2008-12-04            14            163\n2 1988-06-23            34            409\n3 1999-08-25            23            275\n4 1993-02-20            29            353",
      "text/html": "<div>\n<style scoped>\n    .dataframe tbody tr th:only-of-type {\n        vertical-align: middle;\n    }\n\n    .dataframe tbody tr th {\n        vertical-align: top;\n    }\n\n    .dataframe thead th {\n        text-align: right;\n    }\n</style>\n<table border=\"1\" class=\"dataframe\">\n  <thead>\n    <tr style=\"text-align: right;\">\n      <th></th>\n      <th>date</th>\n      <th>passed_years</th>\n      <th>passed_months</th>\n    </tr>\n  </thead>\n  <tbody>\n    <tr>\n      <th>0</th>\n      <td>2017-01-01</td>\n      <td>5</td>\n      <td>66</td>\n    </tr>\n    <tr>\n      <th>1</th>\n      <td>2008-12-04</td>\n      <td>14</td>\n      <td>163</td>\n    </tr>\n    <tr>\n      <th>2</th>\n      <td>1988-06-23</td>\n      <td>34</td>\n      <td>409</td>\n    </tr>\n    <tr>\n      <th>3</th>\n      <td>1999-08-25</td>\n      <td>23</td>\n      <td>275</td>\n    </tr>\n    <tr>\n      <th>4</th>\n      <td>1993-02-20</td>\n      <td>29</td>\n      <td>353</td>\n    </tr>\n  </tbody>\n</table>\n</div>"
     },
     "execution_count": 9,
     "metadata": {},
     "output_type": "execute_result"
    }
   ],
   "source": [
    "#Extracting passed months since the date\n",
    "period['passed_months'] = (date.today().year - period['date'].dt.year) * 12 + date.today().month - period['date'].dt.month\n",
    "\n",
    "period.head()"
   ],
   "metadata": {
    "collapsed": false,
    "pycharm": {
     "name": "#%%\n"
    }
   }
  },
  {
   "cell_type": "markdown",
   "source": [
    "## 10.1.3 Get special day marks\n",
    "\n",
    "Extracting some specific features from the date: Name of the weekday, Weekend or not, holiday or not, etc."
   ],
   "metadata": {
    "collapsed": false,
    "pycharm": {
     "name": "#%% md\n"
    }
   }
  },
  {
   "cell_type": "code",
   "execution_count": 10,
   "outputs": [
    {
     "data": {
      "text/plain": "        date   day_name\n0 2017-01-01     Sunday\n1 2008-12-04   Thursday\n2 1988-06-23   Thursday\n3 1999-08-25  Wednesday\n4 1993-02-20   Saturday",
      "text/html": "<div>\n<style scoped>\n    .dataframe tbody tr th:only-of-type {\n        vertical-align: middle;\n    }\n\n    .dataframe tbody tr th {\n        vertical-align: top;\n    }\n\n    .dataframe thead th {\n        text-align: right;\n    }\n</style>\n<table border=\"1\" class=\"dataframe\">\n  <thead>\n    <tr style=\"text-align: right;\">\n      <th></th>\n      <th>date</th>\n      <th>day_name</th>\n    </tr>\n  </thead>\n  <tbody>\n    <tr>\n      <th>0</th>\n      <td>2017-01-01</td>\n      <td>Sunday</td>\n    </tr>\n    <tr>\n      <th>1</th>\n      <td>2008-12-04</td>\n      <td>Thursday</td>\n    </tr>\n    <tr>\n      <th>2</th>\n      <td>1988-06-23</td>\n      <td>Thursday</td>\n    </tr>\n    <tr>\n      <th>3</th>\n      <td>1999-08-25</td>\n      <td>Wednesday</td>\n    </tr>\n    <tr>\n      <th>4</th>\n      <td>1993-02-20</td>\n      <td>Saturday</td>\n    </tr>\n  </tbody>\n</table>\n</div>"
     },
     "execution_count": 10,
     "metadata": {},
     "output_type": "execute_result"
    }
   ],
   "source": [
    "special_day=pdf.copy()\n",
    "\n",
    "\n",
    "#Extracting the weekday name of the date\n",
    "special_day['day_name'] = special_day['date'].dt.day_name()\n",
    "\n",
    "special_day.head()"
   ],
   "metadata": {
    "collapsed": false,
    "pycharm": {
     "name": "#%%\n"
    }
   }
  },
  {
   "cell_type": "markdown",
   "source": [
    "# 10.2 Transform date with spark\n",
    "\n",
    "Prepare spark context and data frame\n"
   ],
   "metadata": {
    "collapsed": false,
    "pycharm": {
     "name": "#%% md\n"
    }
   }
  },
  {
   "cell_type": "code",
   "execution_count": 42,
   "outputs": [],
   "source": [
    "from pyspark.sql import SparkSession\n",
    "import os\n",
    "from pyspark.sql.functions import col, to_date, year,month,dayofmonth,current_date,datediff,round,floor,ceil,months_between,dayofweek\n",
    "from pyspark.sql.types import StructType, StructField, StringType, DateType"
   ],
   "metadata": {
    "collapsed": false,
    "pycharm": {
     "name": "#%%\n"
    }
   }
  },
  {
   "cell_type": "code",
   "execution_count": 2,
   "outputs": [
    {
     "name": "stderr",
     "output_type": "stream",
     "text": [
      "22/07/22 10:48:48 WARN Utils: Your hostname, ubuntu resolves to a loopback address: 127.0.1.1; using 192.168.184.146 instead (on interface ens33)\n",
      "22/07/22 10:48:48 WARN Utils: Set SPARK_LOCAL_IP if you need to bind to another address\n",
      "WARNING: An illegal reflective access operation has occurred\n",
      "WARNING: Illegal reflective access by org.apache.spark.unsafe.Platform (file:/opt/spark/spark-3.1.2/jars/spark-unsafe_2.12-3.1.2.jar) to constructor java.nio.DirectByteBuffer(long,int)\n",
      "WARNING: Please consider reporting this to the maintainers of org.apache.spark.unsafe.Platform\n",
      "WARNING: Use --illegal-access=warn to enable warnings of further illegal reflective access operations\n",
      "WARNING: All illegal access operations will be denied in a future release\n",
      "22/07/22 10:48:49 WARN NativeCodeLoader: Unable to load native-hadoop library for your platform... using builtin-java classes where applicable\n",
      "Using Spark's default log4j profile: org/apache/spark/log4j-defaults.properties\n",
      "Setting default log level to \"WARN\".\n",
      "To adjust logging level use sc.setLogLevel(newLevel). For SparkR, use setLogLevel(newLevel).\n"
     ]
    }
   ],
   "source": [
    "local = True\n",
    "if local:\n",
    "    spark = SparkSession.builder \\\n",
    "        .master(\"local[4]\") \\\n",
    "        .appName(\"Feature_scaling\") \\\n",
    "        .getOrCreate()\n",
    "else:\n",
    "    spark = SparkSession.builder \\\n",
    "        .master(\"k8s://https://kubernetes.default.svc:443\") \\\n",
    "        .appName(\"Feature_scaling\") \\\n",
    "        .config(\"spark.kubernetes.container.image\", \"inseefrlab/jupyter-datascience:master\") \\\n",
    "        .config(\"spark.kubernetes.authenticate.driver.serviceAccountName\", os.environ['KUBERNETES_SERVICE_ACCOUNT']) \\\n",
    "        .config(\"spark.executor.instances\", \"4\") \\\n",
    "        .config(\"spark.executor.memory\", \"2g\") \\\n",
    "        .config(\"spark.kubernetes.namespace\", os.environ['KUBERNETES_NAMESPACE']) \\\n",
    "        .getOrCreate()\n",
    "\n",
    "# make the large dataframe show pretty\n",
    "spark.conf.set(\"spark.sql.repl.eagerEval.enabled\", True)"
   ],
   "metadata": {
    "collapsed": false,
    "pycharm": {
     "name": "#%%\n"
    }
   }
  },
  {
   "cell_type": "code",
   "execution_count": 23,
   "outputs": [],
   "source": [
    "data=[('01-01-2017',),('04-12-2008',),('23-06-1988',),('25-08-1999',),('20-02-1993',)]\n",
    "schema=StructType([StructField(\"date_str\",StringType(),True)])\n",
    "\n",
    "df = spark.createDataFrame(data,schema)"
   ],
   "metadata": {
    "collapsed": false,
    "pycharm": {
     "name": "#%%\n"
    }
   }
  },
  {
   "cell_type": "code",
   "execution_count": 24,
   "outputs": [
    {
     "name": "stdout",
     "output_type": "stream",
     "text": [
      "+----------+\n",
      "|  date_str|\n",
      "+----------+\n",
      "|01-01-2017|\n",
      "|04-12-2008|\n",
      "|23-06-1988|\n",
      "|25-08-1999|\n",
      "|20-02-1993|\n",
      "+----------+\n",
      "\n"
     ]
    }
   ],
   "source": [
    "df.show()"
   ],
   "metadata": {
    "collapsed": false,
    "pycharm": {
     "name": "#%%\n"
    }
   }
  },
  {
   "cell_type": "code",
   "execution_count": 25,
   "outputs": [
    {
     "name": "stdout",
     "output_type": "stream",
     "text": [
      "root\n",
      " |-- date_str: string (nullable = true)\n",
      "\n"
     ]
    }
   ],
   "source": [
    "df.printSchema()"
   ],
   "metadata": {
    "collapsed": false,
    "pycharm": {
     "name": "#%%\n"
    }
   }
  },
  {
   "cell_type": "markdown",
   "source": [
    "# Convert string column to date column"
   ],
   "metadata": {
    "collapsed": false,
    "pycharm": {
     "name": "#%% md\n"
    }
   }
  },
  {
   "cell_type": "code",
   "execution_count": 26,
   "outputs": [
    {
     "name": "stdout",
     "output_type": "stream",
     "text": [
      "+----------+----------+\n",
      "|  date_str|      date|\n",
      "+----------+----------+\n",
      "|01-01-2017|2017-01-01|\n",
      "|04-12-2008|2008-01-04|\n",
      "|23-06-1988|1988-01-23|\n",
      "|25-08-1999|1999-01-25|\n",
      "|20-02-1993|1993-01-20|\n",
      "+----------+----------+\n",
      "\n",
      "root\n",
      " |-- date_str: string (nullable = true)\n",
      " |-- date: date (nullable = true)\n",
      "\n"
     ]
    }
   ],
   "source": [
    "df=df.withColumn(\"date\",to_date(col(\"date_str\"),\"dd-mm-yyyy\"))\n",
    "\n",
    "df.show()\n",
    "df.printSchema()"
   ],
   "metadata": {
    "collapsed": false,
    "pycharm": {
     "name": "#%%\n"
    }
   }
  },
  {
   "cell_type": "markdown",
   "source": [
    "## 10.2.1 Explode date\n",
    "\n",
    "Extracting the parts of the date into different columns: Year, month, day\n",
    "\n",
    "In spark, to get the day, we have three options:\n",
    "- dayOfYear\n",
    "- dayOfMonth\n",
    "- dayOfWeek"
   ],
   "metadata": {
    "collapsed": false,
    "pycharm": {
     "name": "#%% md\n"
    }
   }
  },
  {
   "cell_type": "code",
   "execution_count": 27,
   "outputs": [
    {
     "name": "stdout",
     "output_type": "stream",
     "text": [
      "+----------+----------+----+-----+---+\n",
      "|  date_str|      date|Year|Month|day|\n",
      "+----------+----------+----+-----+---+\n",
      "|01-01-2017|2017-01-01|2017|    1|  1|\n",
      "|04-12-2008|2008-01-04|2008|    1|  4|\n",
      "|23-06-1988|1988-01-23|1988|    1| 23|\n",
      "|25-08-1999|1999-01-25|1999|    1| 25|\n",
      "|20-02-1993|1993-01-20|1993|    1| 20|\n",
      "+----------+----------+----+-----+---+\n",
      "\n",
      "root\n",
      " |-- date_str: string (nullable = true)\n",
      " |-- date: date (nullable = true)\n",
      " |-- Year: integer (nullable = true)\n",
      " |-- Month: integer (nullable = true)\n",
      " |-- day: integer (nullable = true)\n",
      "\n"
     ]
    }
   ],
   "source": [
    "date_col_name=\"date\"\n",
    "date_extraction=df.withColumn(\"Year\",year(col(date_col_name)))\\\n",
    "    .withColumn(\"Month\",month(col(date_col_name)))\\\n",
    "    .withColumn(\"day\",dayofmonth(col(date_col_name)))\n",
    "\n",
    "date_extraction.show()\n",
    "date_extraction.printSchema()"
   ],
   "metadata": {
    "collapsed": false,
    "pycharm": {
     "name": "#%%\n"
    }
   }
  },
  {
   "cell_type": "markdown",
   "source": [
    "## 10.2.2 Calculate the time period\n",
    "\n",
    "Extracting the time period between the current date and columns in terms of years, months, days, etc.\n",
    "\n",
    "In spark the `datediff` function returns the diff of two dates in days. So for the difference in year, and month, we need to calculate and round it with various function\n",
    "(e.g. round, floor, ceil) based on your requirements.\n",
    "\n",
    "for the month diff, we can notice the function months_between is more accurate than my perso calculation"
   ],
   "metadata": {
    "collapsed": false,
    "pycharm": {
     "name": "#%% md\n"
    }
   }
  },
  {
   "cell_type": "code",
   "execution_count": 49,
   "outputs": [],
   "source": [
    "date_period=df.withColumn(\"current_date\",current_date())\\\n",
    "    .withColumn(\"passed_days\",datediff(col(\"current_date\"),col(\"date\")))\\\n",
    "    .withColumn(\"passed_month\",months_between(col(\"current_date\"),col(\"date\")))\\\n",
    "    .withColumn(\"passed_year\",ceil(col(\"passed_days\")/365))\\\n",
    "    .withColumn(\"passed_month_calc\",ceil(col(\"passed_days\")/30))"
   ],
   "metadata": {
    "collapsed": false,
    "pycharm": {
     "name": "#%%\n"
    }
   }
  },
  {
   "cell_type": "code",
   "execution_count": 50,
   "outputs": [
    {
     "name": "stdout",
     "output_type": "stream",
     "text": [
      "+----------+----------+------------+-----------+------------+-----------+-----------------+\n",
      "|  date_str|      date|current_date|passed_days|passed_month|passed_year|passed_month_calc|\n",
      "+----------+----------+------------+-----------+------------+-----------+-----------------+\n",
      "|01-01-2017|2017-01-01|  2022-07-22|       2028| 66.67741935|          6|               68|\n",
      "|04-12-2008|2008-01-04|  2022-07-22|       5313|174.58064516|         15|              178|\n",
      "|23-06-1988|1988-01-23|  2022-07-22|      12599|413.96774194|         35|              420|\n",
      "|25-08-1999|1999-01-25|  2022-07-22|       8579|281.90322581|         24|              286|\n",
      "|20-02-1993|1993-01-20|  2022-07-22|      10775|354.06451613|         30|              360|\n",
      "+----------+----------+------------+-----------+------------+-----------+-----------------+\n",
      "\n"
     ]
    }
   ],
   "source": [
    "date_period.show()"
   ],
   "metadata": {
    "collapsed": false,
    "pycharm": {
     "name": "#%%\n"
    }
   }
  },
  {
   "cell_type": "markdown",
   "source": [
    "## 10.2.3 Get special day marks\n",
    "\n",
    "Extracting some specific features from the date: Name of the weekday, Weekend or not, holiday or not, etc.\n",
    "\n",
    "Unlike pandas, the dayofweek function does not return \"Monday\", etc. It returns an Integer (between 1, 7)"
   ],
   "metadata": {
    "collapsed": false,
    "pycharm": {
     "name": "#%% md\n"
    }
   }
  },
  {
   "cell_type": "code",
   "execution_count": 51,
   "outputs": [],
   "source": [
    "date_spec=df.withColumn(\"day_name\",dayofweek(\"date\"))"
   ],
   "metadata": {
    "collapsed": false,
    "pycharm": {
     "name": "#%%\n"
    }
   }
  },
  {
   "cell_type": "code",
   "execution_count": 52,
   "outputs": [
    {
     "name": "stdout",
     "output_type": "stream",
     "text": [
      "+----------+----------+--------+\n",
      "|  date_str|      date|day_name|\n",
      "+----------+----------+--------+\n",
      "|01-01-2017|2017-01-01|       1|\n",
      "|04-12-2008|2008-01-04|       6|\n",
      "|23-06-1988|1988-01-23|       7|\n",
      "|25-08-1999|1999-01-25|       2|\n",
      "|20-02-1993|1993-01-20|       4|\n",
      "+----------+----------+--------+\n",
      "\n"
     ]
    }
   ],
   "source": [
    "date_spec.show()"
   ],
   "metadata": {
    "collapsed": false,
    "pycharm": {
     "name": "#%%\n"
    }
   }
  },
  {
   "cell_type": "code",
   "execution_count": 53,
   "outputs": [
    {
     "name": "stdout",
     "output_type": "stream",
     "text": [
      "root\n",
      " |-- date_str: string (nullable = true)\n",
      " |-- date: date (nullable = true)\n",
      " |-- day_name: integer (nullable = true)\n",
      "\n"
     ]
    }
   ],
   "source": [
    "date_spec.printSchema()"
   ],
   "metadata": {
    "collapsed": false,
    "pycharm": {
     "name": "#%%\n"
    }
   }
  },
  {
   "cell_type": "code",
   "execution_count": null,
   "outputs": [],
   "source": [],
   "metadata": {
    "collapsed": false,
    "pycharm": {
     "name": "#%%\n"
    }
   }
  }
 ],
 "metadata": {
  "kernelspec": {
   "display_name": "Python 3",
   "language": "python",
   "name": "python3"
  },
  "language_info": {
   "codemirror_mode": {
    "name": "ipython",
    "version": 2
   },
   "file_extension": ".py",
   "mimetype": "text/x-python",
   "name": "python",
   "nbconvert_exporter": "python",
   "pygments_lexer": "ipython2",
   "version": "2.7.6"
  }
 },
 "nbformat": 4,
 "nbformat_minor": 0
}