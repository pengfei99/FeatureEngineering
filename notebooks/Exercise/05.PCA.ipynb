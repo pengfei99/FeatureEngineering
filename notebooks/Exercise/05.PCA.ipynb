{
 "cells": [
  {
   "cell_type": "markdown",
   "metadata": {
    "collapsed": true,
    "pycharm": {
     "name": "#%% md\n"
    }
   },
   "source": [
    "# 5. PCA (Principal Component Analysis)\n",
    "\n",
    "In this exercise, we will work through several applications of PCA to the Ames dataset."
   ]
  },
  {
   "cell_type": "code",
   "execution_count": 1,
   "outputs": [],
   "source": [
    "import matplotlib.pyplot as plt\n",
    "import numpy as np\n",
    "import pandas as pd\n",
    "from sklearn.decomposition import PCA\n",
    "from sklearn.feature_selection import mutual_info_regression\n",
    "from sklearn.model_selection import cross_val_score\n",
    "from xgboost import XGBRegressor\n",
    "\n",
    "# Set Matplotlib defaults\n",
    "plt.style.use(\"seaborn-whitegrid\")\n",
    "plt.rc(\"figure\", autolayout=True)\n",
    "plt.rc(\n",
    "    \"axes\",\n",
    "    labelweight=\"bold\",\n",
    "    labelsize=\"large\",\n",
    "    titleweight=\"bold\",\n",
    "    titlesize=14,\n",
    "    titlepad=10,\n",
    ")\n"
   ],
   "metadata": {
    "collapsed": false,
    "pycharm": {
     "name": "#%%\n"
    }
   }
  },
  {
   "cell_type": "code",
   "execution_count": 2,
   "outputs": [],
   "source": [
    "def apply_pca(X, standardize=True):\n",
    "    # Standardize\n",
    "    if standardize:\n",
    "        X = (X - X.mean(axis=0)) / X.std(axis=0)\n",
    "    # Create principal components\n",
    "    pca = PCA()\n",
    "    X_pca = pca.fit_transform(X)\n",
    "    # Convert to dataframe\n",
    "    component_names = [f\"PC{i + 1}\" for i in range(X_pca.shape[1])]\n",
    "    X_pca = pd.DataFrame(X_pca, columns=component_names)\n",
    "    # Create loadings\n",
    "    loadings = pd.DataFrame(\n",
    "        pca.components_.T,  # transpose the matrix of loadings\n",
    "        columns=component_names,  # so the columns are the principal components\n",
    "        index=X.columns,  # and the rows are the original features\n",
    "    )\n",
    "    return pca, X_pca, loadings"
   ],
   "metadata": {
    "collapsed": false,
    "pycharm": {
     "name": "#%%\n"
    }
   }
  },
  {
   "cell_type": "code",
   "execution_count": 3,
   "outputs": [],
   "source": [
    "def plot_variance(pca, width=8, dpi=100):\n",
    "    # Create figure\n",
    "    fig, axs = plt.subplots(1, 2)\n",
    "    n = pca.n_components_\n",
    "    grid = np.arange(1, n + 1)\n",
    "    # Explained variance\n",
    "    evr = pca.explained_variance_ratio_\n",
    "    axs[0].bar(grid, evr)\n",
    "    axs[0].set(\n",
    "        xlabel=\"Component\", title=\"% Explained Variance\", ylim=(0.0, 1.0)\n",
    "    )\n",
    "    # Cumulative Variance\n",
    "    cv = np.cumsum(evr)\n",
    "    axs[1].plot(np.r_[0, grid], np.r_[0, cv], \"o-\")\n",
    "    axs[1].set(\n",
    "        xlabel=\"Component\", title=\"% Cumulative Variance\", ylim=(0.0, 1.0)\n",
    "    )\n",
    "    # Set up figure\n",
    "    fig.set(figwidth=8, dpi=100)\n",
    "    return axs"
   ],
   "metadata": {
    "collapsed": false,
    "pycharm": {
     "name": "#%%\n"
    }
   }
  },
  {
   "cell_type": "code",
   "execution_count": 4,
   "outputs": [],
   "source": [
    "def make_mi_scores(X, y):\n",
    "    X = X.copy()\n",
    "    for colname in X.select_dtypes([\"object\", \"category\"]):\n",
    "        X[colname], _ = X[colname].factorize()\n",
    "    # All discrete features should now have integer dtypes\n",
    "    discrete_features = [pd.api.types.is_integer_dtype(t) for t in X.dtypes]\n",
    "    mi_scores = mutual_info_regression(X, y, discrete_features=discrete_features, random_state=0)\n",
    "    mi_scores = pd.Series(mi_scores, name=\"MI Scores\", index=X.columns)\n",
    "    mi_scores = mi_scores.sort_values(ascending=False)\n",
    "    return mi_scores"
   ],
   "metadata": {
    "collapsed": false,
    "pycharm": {
     "name": "#%%\n"
    }
   }
  },
  {
   "cell_type": "code",
   "execution_count": 5,
   "outputs": [],
   "source": [
    "def score_dataset(X, y, model=XGBRegressor()):\n",
    "    # Label encoding for categoricals\n",
    "    for colname in X.select_dtypes([\"category\", \"object\"]):\n",
    "        X[colname], _ = X[colname].factorize()\n",
    "    # Metric for Housing competition is RMSLE (Root Mean Squared Log Error)\n",
    "    score = cross_val_score(\n",
    "        model, X, y, cv=5, scoring=\"neg_mean_squared_log_error\",\n",
    "    )\n",
    "    score = -1 * score.mean()\n",
    "    score = np.sqrt(score)\n",
    "    return score"
   ],
   "metadata": {
    "collapsed": false,
    "pycharm": {
     "name": "#%%\n"
    }
   }
  },
  {
   "cell_type": "code",
   "execution_count": 6,
   "outputs": [],
   "source": [
    "data_path = \"../../data/ames.csv.zip\""
   ],
   "metadata": {
    "collapsed": false,
    "pycharm": {
     "name": "#%%\n"
    }
   }
  },
  {
   "cell_type": "code",
   "execution_count": 7,
   "outputs": [],
   "source": [
    "df = pd.read_csv(data_path)"
   ],
   "metadata": {
    "collapsed": false,
    "pycharm": {
     "name": "#%%\n"
    }
   }
  },
  {
   "cell_type": "code",
   "execution_count": 8,
   "outputs": [
    {
     "data": {
      "text/plain": "                            MSSubClass                  MSZoning  LotFrontage  \\\n0  One_Story_1946_and_Newer_All_Styles   Residential_Low_Density        141.0   \n1  One_Story_1946_and_Newer_All_Styles  Residential_High_Density         80.0   \n2  One_Story_1946_and_Newer_All_Styles   Residential_Low_Density         81.0   \n3  One_Story_1946_and_Newer_All_Styles   Residential_Low_Density         93.0   \n4             Two_Story_1946_and_Newer   Residential_Low_Density         74.0   \n\n   LotArea Street            Alley            LotShape LandContour Utilities  \\\n0  31770.0   Pave  No_Alley_Access  Slightly_Irregular         Lvl    AllPub   \n1  11622.0   Pave  No_Alley_Access             Regular         Lvl    AllPub   \n2  14267.0   Pave  No_Alley_Access  Slightly_Irregular         Lvl    AllPub   \n3  11160.0   Pave  No_Alley_Access             Regular         Lvl    AllPub   \n4  13830.0   Pave  No_Alley_Access  Slightly_Irregular         Lvl    AllPub   \n\n  LotConfig  ... PoolArea   PoolQC            Fence MiscFeature  MiscVal  \\\n0    Corner  ...      0.0  No_Pool         No_Fence        None      0.0   \n1    Inside  ...      0.0  No_Pool  Minimum_Privacy        None      0.0   \n2    Corner  ...      0.0  No_Pool         No_Fence        Gar2  12500.0   \n3    Corner  ...      0.0  No_Pool         No_Fence        None      0.0   \n4    Inside  ...      0.0  No_Pool  Minimum_Privacy        None      0.0   \n\n  MoSold YearSold SaleType  SaleCondition  SalePrice  \n0      5     2010      WD          Normal     215000  \n1      6     2010      WD          Normal     105000  \n2      6     2010      WD          Normal     172000  \n3      4     2010      WD          Normal     244000  \n4      3     2010      WD          Normal     189900  \n\n[5 rows x 79 columns]",
      "text/html": "<div>\n<style scoped>\n    .dataframe tbody tr th:only-of-type {\n        vertical-align: middle;\n    }\n\n    .dataframe tbody tr th {\n        vertical-align: top;\n    }\n\n    .dataframe thead th {\n        text-align: right;\n    }\n</style>\n<table border=\"1\" class=\"dataframe\">\n  <thead>\n    <tr style=\"text-align: right;\">\n      <th></th>\n      <th>MSSubClass</th>\n      <th>MSZoning</th>\n      <th>LotFrontage</th>\n      <th>LotArea</th>\n      <th>Street</th>\n      <th>Alley</th>\n      <th>LotShape</th>\n      <th>LandContour</th>\n      <th>Utilities</th>\n      <th>LotConfig</th>\n      <th>...</th>\n      <th>PoolArea</th>\n      <th>PoolQC</th>\n      <th>Fence</th>\n      <th>MiscFeature</th>\n      <th>MiscVal</th>\n      <th>MoSold</th>\n      <th>YearSold</th>\n      <th>SaleType</th>\n      <th>SaleCondition</th>\n      <th>SalePrice</th>\n    </tr>\n  </thead>\n  <tbody>\n    <tr>\n      <th>0</th>\n      <td>One_Story_1946_and_Newer_All_Styles</td>\n      <td>Residential_Low_Density</td>\n      <td>141.0</td>\n      <td>31770.0</td>\n      <td>Pave</td>\n      <td>No_Alley_Access</td>\n      <td>Slightly_Irregular</td>\n      <td>Lvl</td>\n      <td>AllPub</td>\n      <td>Corner</td>\n      <td>...</td>\n      <td>0.0</td>\n      <td>No_Pool</td>\n      <td>No_Fence</td>\n      <td>None</td>\n      <td>0.0</td>\n      <td>5</td>\n      <td>2010</td>\n      <td>WD</td>\n      <td>Normal</td>\n      <td>215000</td>\n    </tr>\n    <tr>\n      <th>1</th>\n      <td>One_Story_1946_and_Newer_All_Styles</td>\n      <td>Residential_High_Density</td>\n      <td>80.0</td>\n      <td>11622.0</td>\n      <td>Pave</td>\n      <td>No_Alley_Access</td>\n      <td>Regular</td>\n      <td>Lvl</td>\n      <td>AllPub</td>\n      <td>Inside</td>\n      <td>...</td>\n      <td>0.0</td>\n      <td>No_Pool</td>\n      <td>Minimum_Privacy</td>\n      <td>None</td>\n      <td>0.0</td>\n      <td>6</td>\n      <td>2010</td>\n      <td>WD</td>\n      <td>Normal</td>\n      <td>105000</td>\n    </tr>\n    <tr>\n      <th>2</th>\n      <td>One_Story_1946_and_Newer_All_Styles</td>\n      <td>Residential_Low_Density</td>\n      <td>81.0</td>\n      <td>14267.0</td>\n      <td>Pave</td>\n      <td>No_Alley_Access</td>\n      <td>Slightly_Irregular</td>\n      <td>Lvl</td>\n      <td>AllPub</td>\n      <td>Corner</td>\n      <td>...</td>\n      <td>0.0</td>\n      <td>No_Pool</td>\n      <td>No_Fence</td>\n      <td>Gar2</td>\n      <td>12500.0</td>\n      <td>6</td>\n      <td>2010</td>\n      <td>WD</td>\n      <td>Normal</td>\n      <td>172000</td>\n    </tr>\n    <tr>\n      <th>3</th>\n      <td>One_Story_1946_and_Newer_All_Styles</td>\n      <td>Residential_Low_Density</td>\n      <td>93.0</td>\n      <td>11160.0</td>\n      <td>Pave</td>\n      <td>No_Alley_Access</td>\n      <td>Regular</td>\n      <td>Lvl</td>\n      <td>AllPub</td>\n      <td>Corner</td>\n      <td>...</td>\n      <td>0.0</td>\n      <td>No_Pool</td>\n      <td>No_Fence</td>\n      <td>None</td>\n      <td>0.0</td>\n      <td>4</td>\n      <td>2010</td>\n      <td>WD</td>\n      <td>Normal</td>\n      <td>244000</td>\n    </tr>\n    <tr>\n      <th>4</th>\n      <td>Two_Story_1946_and_Newer</td>\n      <td>Residential_Low_Density</td>\n      <td>74.0</td>\n      <td>13830.0</td>\n      <td>Pave</td>\n      <td>No_Alley_Access</td>\n      <td>Slightly_Irregular</td>\n      <td>Lvl</td>\n      <td>AllPub</td>\n      <td>Inside</td>\n      <td>...</td>\n      <td>0.0</td>\n      <td>No_Pool</td>\n      <td>Minimum_Privacy</td>\n      <td>None</td>\n      <td>0.0</td>\n      <td>3</td>\n      <td>2010</td>\n      <td>WD</td>\n      <td>Normal</td>\n      <td>189900</td>\n    </tr>\n  </tbody>\n</table>\n<p>5 rows × 79 columns</p>\n</div>"
     },
     "execution_count": 8,
     "metadata": {},
     "output_type": "execute_result"
    }
   ],
   "source": [
    "df.head()"
   ],
   "metadata": {
    "collapsed": false,
    "pycharm": {
     "name": "#%%\n"
    }
   }
  },
  {
   "cell_type": "markdown",
   "source": [
    "## 5.1 Find the highly correlated feature\n",
    "\n",
    "Let's choose a few features that are highly correlated with our target, SalePrice.\n",
    "Below function can find all feature that are correlated with our target column."
   ],
   "metadata": {
    "collapsed": false,
    "pycharm": {
     "name": "#%% md\n"
    }
   }
  },
  {
   "cell_type": "code",
   "execution_count": 24,
   "outputs": [],
   "source": [
    "def get_corr_feature(df, target_col,min_score):\n",
    "    feature_list=[]\n",
    "    # as corrwith function only works on numeric columns, so we only check the correlation between numeric feature and SalePrice\n",
    "    for feature in df.columns:\n",
    "        if (df[feature].dtype == np.float64 or df[feature].dtype == np.int64):\n",
    "            res = df[[feature]].corrwith(df[target_col])\n",
    "            if res[0]>min_score:\n",
    "                feature_list.append(feature)\n",
    "                print(f\"Correlation between {feature} and {target_col}: {res[0]}\")\n",
    "    return feature_list"
   ],
   "metadata": {
    "collapsed": false,
    "pycharm": {
     "name": "#%%\n"
    }
   }
  },
  {
   "cell_type": "code",
   "execution_count": 25,
   "outputs": [
    {
     "name": "stdout",
     "output_type": "stream",
     "text": [
      "Correlation between YearBuilt and SalePrice: 0.5584261057120454\n",
      "Correlation between YearRemodAdd and SalePrice: 0.5329737540266953\n",
      "Correlation between MasVnrArea and SalePrice: 0.5021959770445459\n",
      "Correlation between TotalBsmtSF and SalePrice: 0.6325288490320322\n",
      "Correlation between FirstFlrSF and SalePrice: 0.6216760632702534\n",
      "Correlation between GrLivArea and SalePrice: 0.7067799209766279\n",
      "Correlation between FullBath and SalePrice: 0.5456039005201102\n",
      "Correlation between GarageCars and SalePrice: 0.6475616131207702\n",
      "Correlation between GarageArea and SalePrice: 0.6401382984873728\n",
      "Correlation between SalePrice and SalePrice: 1.0\n"
     ]
    }
   ],
   "source": [
    "feature_list=get_corr_feature(df,\"SalePrice\",0.5)"
   ],
   "metadata": {
    "collapsed": false,
    "pycharm": {
     "name": "#%%\n"
    }
   }
  },
  {
   "cell_type": "code",
   "execution_count": 23,
   "outputs": [
    {
     "name": "stdout",
     "output_type": "stream",
     "text": [
      "['YearBuilt', 'YearRemodAdd', 'MasVnrArea', 'TotalBsmtSF', 'FirstFlrSF', 'GrLivArea', 'FullBath', 'GarageCars', 'GarageArea', 'SalePrice']\n"
     ]
    }
   ],
   "source": [
    "# you can notice the max value of correlation is 1.0\n",
    "print(feature_list)"
   ],
   "metadata": {
    "collapsed": false,
    "pycharm": {
     "name": "#%%\n"
    }
   }
  },
  {
   "cell_type": "code",
   "execution_count": null,
   "outputs": [],
   "source": [
    "# For simplify things, we only choose four features\n",
    "features = [\n",
    "    \"GarageArea\",\n",
    "    \"YearRemodAdd\",\n",
    "    \"TotalBsmtSF\",\n",
    "    \"GrLivArea\",\n",
    "]"
   ],
   "metadata": {
    "collapsed": false,
    "pycharm": {
     "name": "#%%\n"
    }
   }
  },
  {
   "cell_type": "markdown",
   "source": [
    "We'll rely on PCA to untangle the correlational structure of these features and suggest relationships that might be usefully modeled with new features."
   ],
   "metadata": {
    "collapsed": false,
    "pycharm": {
     "name": "#%% md\n"
    }
   }
  },
  {
   "cell_type": "code",
   "execution_count": 26,
   "outputs": [
    {
     "name": "stdout",
     "output_type": "stream",
     "text": [
      "                   PC1       PC2       PC3       PC4\n",
      "GarageArea    0.541229  0.102375 -0.038470  0.833733\n",
      "YearRemodAdd  0.427077 -0.886612 -0.049062 -0.170639\n",
      "TotalBsmtSF   0.510076  0.360778 -0.666836 -0.406192\n",
      "GrLivArea     0.514294  0.270700  0.742592 -0.332837\n"
     ]
    }
   ],
   "source": [
    "X = df.copy()\n",
    "y = X.pop(\"SalePrice\")\n",
    "X = X.loc[:, features]\n",
    "\n",
    "# `apply_pca`, defined above, reproduces the code from the tutorial\n",
    "pca, X_pca, loadings = apply_pca(X)\n",
    "print(loadings)"
   ],
   "metadata": {
    "collapsed": false,
    "pycharm": {
     "name": "#%%\n"
    }
   }
  },
  {
   "cell_type": "markdown",
   "source": [
    "## 5.1 Interpret Component loadings\n",
    "\n",
    "Look at the loadings for components PC1 and PC3. Can you think of a description of what kind of contrast each component has captured? After you've thought about it, run the next cell for a solution."
   ],
   "metadata": {
    "collapsed": false,
    "pycharm": {
     "name": "#%% md\n"
    }
   }
  },
  {
   "cell_type": "markdown",
   "source": [
    "Pands tips: https://stackoverflow.com/questions/50302180/difference-between-dfx-dfx-dfx-dfx-and-df-x"
   ],
   "metadata": {
    "collapsed": false,
    "pycharm": {
     "name": "#%% md\n"
    }
   }
  }
 ],
 "metadata": {
  "kernelspec": {
   "display_name": "Python 3",
   "language": "python",
   "name": "python3"
  },
  "language_info": {
   "codemirror_mode": {
    "name": "ipython",
    "version": 2
   },
   "file_extension": ".py",
   "mimetype": "text/x-python",
   "name": "python",
   "nbconvert_exporter": "python",
   "pygments_lexer": "ipython2",
   "version": "2.7.6"
  }
 },
 "nbformat": 4,
 "nbformat_minor": 0
}