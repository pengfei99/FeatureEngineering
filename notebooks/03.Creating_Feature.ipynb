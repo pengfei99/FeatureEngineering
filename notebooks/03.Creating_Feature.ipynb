{
 "cells": [
  {
   "cell_type": "markdown",
   "metadata": {
    "collapsed": true,
    "pycharm": {
     "name": "#%% md\n"
    }
   },
   "source": [
    "# 3 Creating feature\n",
    "\n",
    "Once you've identified a set of features with some potential, it's time to start developing them. In this lesson, you'll learn a number of common transformations you can do entirely in Pandas. \n",
    "\n",
    "We'll use four datasets in this lesson having a range of feature types:\n",
    "\n",
    "- [concrete.csv](https://www.kaggle.com/datasets/sinamhd9/concrete-comprehensive-strength)\n",
    "- [customer.csv](https://www.kaggle.com/datasets/pankajjsh06/ibm-watson-marketing-customer-value-data)\n",
    "- [accidents.csv](https://www.kaggle.com/datasets/sobhanmoosavi/us-accidents)\n",
    "- [autos.csv](https://www.kaggle.com/datasets/toramky/automobile-dataset)\n",
    "\n",
    "**Some Tips on Discovering New Features**:\n",
    "- Understand the features. Refer to your dataset's data documentation, if available.\n",
    "- Research the problem domain to acquire domain knowledge. If your problem is predicting house prices, do some research on real-estate for instance. Wikipedia can be a good starting point, but books and journal articles will often have the best information.\n",
    "- Study previous work. Solution write-ups from past Kaggle competitions are a great resource.\n",
    "- Use data visualization. Visualization can reveal pathologies in the distribution of a feature or complicated relationships that could be simplified. Be sure to visualize your dataset as you work through the feature engineering process."
   ]
  },
  {
   "cell_type": "code",
   "execution_count": 8,
   "outputs": [],
   "source": [
    "import matplotlib.pyplot as plt\n",
    "import numpy as np\n",
    "import pandas as pd\n",
    "import seaborn as sns\n",
    "\n",
    "# configure graph layout\n",
    "plt.style.use(\"seaborn-whitegrid\")\n",
    "plt.rc(\"figure\", autolayout=True)\n",
    "plt.rc(\n",
    "    \"axes\",\n",
    "    labelweight=\"bold\",\n",
    "    labelsize=\"large\",\n",
    "    titleweight=\"bold\",\n",
    "    titlesize=14,\n",
    "    titlepad=10,\n",
    ")"
   ],
   "metadata": {
    "collapsed": false,
    "pycharm": {
     "name": "#%%\n"
    }
   }
  },
  {
   "cell_type": "code",
   "execution_count": 2,
   "outputs": [],
   "source": [
    "accidents_path = \"../data/accidents.csv\"\n",
    "autos_path = \"../data/autos.csv\"\n",
    "concrete_path = \"../data/concrete.csv\"\n",
    "customer_path = \"../data/customer.csv\""
   ],
   "metadata": {
    "collapsed": false,
    "pycharm": {
     "name": "#%%\n"
    }
   }
  },
  {
   "cell_type": "code",
   "execution_count": 3,
   "outputs": [],
   "source": [
    "accidents = pd.read_csv(accidents_path)\n",
    "autos = pd.read_csv(autos_path)\n",
    "concrete = pd.read_csv(concrete_path)\n",
    "customer = pd.read_csv(customer_path)"
   ],
   "metadata": {
    "collapsed": false,
    "pycharm": {
     "name": "#%%\n"
    }
   }
  },
  {
   "cell_type": "markdown",
   "source": [
    "## 3.1 Mathematical Transforms\n",
    "\n",
    "Relationships among numerical features are often expressed through mathematical formulas, which you'll frequently come across as part of your domain research. In Pandas, you can apply arithmetic operations to columns just as if they were ordinary numbers.\n",
    "\n",
    "In the Automobile dataset, there are features describing a car's engine (e.g. stroke, bore, etc.). For example, we can create a new feature the \"stroke ratio\", which can measure of how efficient an engine is versus how performant"
   ],
   "metadata": {
    "collapsed": false,
    "pycharm": {
     "name": "#%% md\n"
    }
   }
  },
  {
   "cell_type": "code",
   "execution_count": 5,
   "outputs": [
    {
     "data": {
      "text/plain": "   symboling         make fuel_type aspiration  num_of_doors   body_style  \\\n0          3  alfa-romero       gas        std             2  convertible   \n1          3  alfa-romero       gas        std             2  convertible   \n2          1  alfa-romero       gas        std             2    hatchback   \n3          2         audi       gas        std             4        sedan   \n4          2         audi       gas        std             4        sedan   \n\n  drive_wheels engine_location  wheel_base  length  ...  engine_size  \\\n0          rwd           front        88.6   168.8  ...          130   \n1          rwd           front        88.6   168.8  ...          130   \n2          rwd           front        94.5   171.2  ...          152   \n3          fwd           front        99.8   176.6  ...          109   \n4          4wd           front        99.4   176.6  ...          136   \n\n   fuel_system  bore stroke  compression_ratio  horsepower peak_rpm  city_mpg  \\\n0         mpfi  3.47   2.68                  9         111     5000        21   \n1         mpfi  3.47   2.68                  9         111     5000        21   \n2         mpfi  2.68   3.47                  9         154     5000        19   \n3         mpfi  3.19   3.40                 10         102     5500        24   \n4         mpfi  3.19   3.40                  8         115     5500        18   \n\n   highway_mpg  price  \n0           27  13495  \n1           27  16500  \n2           26  16500  \n3           30  13950  \n4           22  17450  \n\n[5 rows x 25 columns]",
      "text/html": "<div>\n<style scoped>\n    .dataframe tbody tr th:only-of-type {\n        vertical-align: middle;\n    }\n\n    .dataframe tbody tr th {\n        vertical-align: top;\n    }\n\n    .dataframe thead th {\n        text-align: right;\n    }\n</style>\n<table border=\"1\" class=\"dataframe\">\n  <thead>\n    <tr style=\"text-align: right;\">\n      <th></th>\n      <th>symboling</th>\n      <th>make</th>\n      <th>fuel_type</th>\n      <th>aspiration</th>\n      <th>num_of_doors</th>\n      <th>body_style</th>\n      <th>drive_wheels</th>\n      <th>engine_location</th>\n      <th>wheel_base</th>\n      <th>length</th>\n      <th>...</th>\n      <th>engine_size</th>\n      <th>fuel_system</th>\n      <th>bore</th>\n      <th>stroke</th>\n      <th>compression_ratio</th>\n      <th>horsepower</th>\n      <th>peak_rpm</th>\n      <th>city_mpg</th>\n      <th>highway_mpg</th>\n      <th>price</th>\n    </tr>\n  </thead>\n  <tbody>\n    <tr>\n      <th>0</th>\n      <td>3</td>\n      <td>alfa-romero</td>\n      <td>gas</td>\n      <td>std</td>\n      <td>2</td>\n      <td>convertible</td>\n      <td>rwd</td>\n      <td>front</td>\n      <td>88.6</td>\n      <td>168.8</td>\n      <td>...</td>\n      <td>130</td>\n      <td>mpfi</td>\n      <td>3.47</td>\n      <td>2.68</td>\n      <td>9</td>\n      <td>111</td>\n      <td>5000</td>\n      <td>21</td>\n      <td>27</td>\n      <td>13495</td>\n    </tr>\n    <tr>\n      <th>1</th>\n      <td>3</td>\n      <td>alfa-romero</td>\n      <td>gas</td>\n      <td>std</td>\n      <td>2</td>\n      <td>convertible</td>\n      <td>rwd</td>\n      <td>front</td>\n      <td>88.6</td>\n      <td>168.8</td>\n      <td>...</td>\n      <td>130</td>\n      <td>mpfi</td>\n      <td>3.47</td>\n      <td>2.68</td>\n      <td>9</td>\n      <td>111</td>\n      <td>5000</td>\n      <td>21</td>\n      <td>27</td>\n      <td>16500</td>\n    </tr>\n    <tr>\n      <th>2</th>\n      <td>1</td>\n      <td>alfa-romero</td>\n      <td>gas</td>\n      <td>std</td>\n      <td>2</td>\n      <td>hatchback</td>\n      <td>rwd</td>\n      <td>front</td>\n      <td>94.5</td>\n      <td>171.2</td>\n      <td>...</td>\n      <td>152</td>\n      <td>mpfi</td>\n      <td>2.68</td>\n      <td>3.47</td>\n      <td>9</td>\n      <td>154</td>\n      <td>5000</td>\n      <td>19</td>\n      <td>26</td>\n      <td>16500</td>\n    </tr>\n    <tr>\n      <th>3</th>\n      <td>2</td>\n      <td>audi</td>\n      <td>gas</td>\n      <td>std</td>\n      <td>4</td>\n      <td>sedan</td>\n      <td>fwd</td>\n      <td>front</td>\n      <td>99.8</td>\n      <td>176.6</td>\n      <td>...</td>\n      <td>109</td>\n      <td>mpfi</td>\n      <td>3.19</td>\n      <td>3.40</td>\n      <td>10</td>\n      <td>102</td>\n      <td>5500</td>\n      <td>24</td>\n      <td>30</td>\n      <td>13950</td>\n    </tr>\n    <tr>\n      <th>4</th>\n      <td>2</td>\n      <td>audi</td>\n      <td>gas</td>\n      <td>std</td>\n      <td>4</td>\n      <td>sedan</td>\n      <td>4wd</td>\n      <td>front</td>\n      <td>99.4</td>\n      <td>176.6</td>\n      <td>...</td>\n      <td>136</td>\n      <td>mpfi</td>\n      <td>3.19</td>\n      <td>3.40</td>\n      <td>8</td>\n      <td>115</td>\n      <td>5500</td>\n      <td>18</td>\n      <td>22</td>\n      <td>17450</td>\n    </tr>\n  </tbody>\n</table>\n<p>5 rows × 25 columns</p>\n</div>"
     },
     "execution_count": 5,
     "metadata": {},
     "output_type": "execute_result"
    }
   ],
   "source": [
    "autos.head()"
   ],
   "metadata": {
    "collapsed": false,
    "pycharm": {
     "name": "#%%\n"
    }
   }
  },
  {
   "cell_type": "code",
   "execution_count": 6,
   "outputs": [
    {
     "data": {
      "text/plain": "   stroke  bore  stroke_ratio\n0    2.68  3.47      0.772334\n1    2.68  3.47      0.772334\n2    3.47  2.68      1.294776\n3    3.40  3.19      1.065831\n4    3.40  3.19      1.065831",
      "text/html": "<div>\n<style scoped>\n    .dataframe tbody tr th:only-of-type {\n        vertical-align: middle;\n    }\n\n    .dataframe tbody tr th {\n        vertical-align: top;\n    }\n\n    .dataframe thead th {\n        text-align: right;\n    }\n</style>\n<table border=\"1\" class=\"dataframe\">\n  <thead>\n    <tr style=\"text-align: right;\">\n      <th></th>\n      <th>stroke</th>\n      <th>bore</th>\n      <th>stroke_ratio</th>\n    </tr>\n  </thead>\n  <tbody>\n    <tr>\n      <th>0</th>\n      <td>2.68</td>\n      <td>3.47</td>\n      <td>0.772334</td>\n    </tr>\n    <tr>\n      <th>1</th>\n      <td>2.68</td>\n      <td>3.47</td>\n      <td>0.772334</td>\n    </tr>\n    <tr>\n      <th>2</th>\n      <td>3.47</td>\n      <td>2.68</td>\n      <td>1.294776</td>\n    </tr>\n    <tr>\n      <th>3</th>\n      <td>3.40</td>\n      <td>3.19</td>\n      <td>1.065831</td>\n    </tr>\n    <tr>\n      <th>4</th>\n      <td>3.40</td>\n      <td>3.19</td>\n      <td>1.065831</td>\n    </tr>\n  </tbody>\n</table>\n</div>"
     },
     "execution_count": 6,
     "metadata": {},
     "output_type": "execute_result"
    }
   ],
   "source": [
    "autos[\"stroke_ratio\"] = autos.stroke / autos.bore\n",
    "autos[[\"stroke\", \"bore\", \"stroke_ratio\"]].head()"
   ],
   "metadata": {
    "collapsed": false,
    "pycharm": {
     "name": "#%%\n"
    }
   }
  },
  {
   "cell_type": "markdown",
   "source": [
    "The more complicated a combination is, the more difficult it will be for a model to learn, like below formula for an engine's \"displacement\", a measure of its power:"
   ],
   "metadata": {
    "collapsed": false,
    "pycharm": {
     "name": "#%% md\n"
    }
   }
  },
  {
   "cell_type": "code",
   "execution_count": 10,
   "outputs": [],
   "source": [
    "autos[\"displacement\"] = (np.pi * ((0.5 * autos.bore) ** 2) * autos.stroke * autos.num_of_cylinders)"
   ],
   "metadata": {
    "collapsed": false,
    "pycharm": {
     "name": "#%%\n"
    }
   }
  },
  {
   "cell_type": "markdown",
   "source": [
    "Data visualization can suggest transformations, often a \"reshaping\" of a feature through powers or logarithms. The distribution of WindSpeed in US Accidents is highly skewed, for instance. In this case the logarithm is effective at normalizing it:"
   ],
   "metadata": {
    "collapsed": false,
    "pycharm": {
     "name": "#%% md\n"
    }
   }
  },
  {
   "cell_type": "code",
   "execution_count": 11,
   "outputs": [
    {
     "data": {
      "text/plain": "<Figure size 576x288 with 2 Axes>",
      "image/png": "[encoded data removed]"
     },
     "metadata": {
      "needs_background": "light"
     },
     "output_type": "display_data"
    }
   ],
   "source": [
    "# If the feature has 0.0 values, use np.log1p (log(1+x)) instead of np.log\n",
    "accidents[\"LogWindSpeed\"] = accidents.WindSpeed.apply(np.log1p)\n",
    "\n",
    "# Plot a comparison\n",
    "fig, axs = plt.subplots(1, 2, figsize=(8, 4))\n",
    "sns.kdeplot(accidents.WindSpeed, shade=True, ax=axs[0])\n",
    "sns.kdeplot(accidents.LogWindSpeed, shade=True, ax=axs[1]);"
   ],
   "metadata": {
    "collapsed": false,
    "pycharm": {
     "name": "#%%\n"
    }
   }
  },
  {
   "cell_type": "markdown",
   "source": [
    "Check out the kaggle lesson on [normalization](https://www.kaggle.com/code/alexisbcook/scaling-and-normalization/tutorial) in Data Cleaning where you'll also learn about the Box-Cox transformation, a very general kind of normalizer."
   ],
   "metadata": {
    "collapsed": false,
    "pycharm": {
     "name": "#%% md\n"
    }
   }
  },
  {
   "cell_type": "markdown",
   "source": [
    "## 3.2 Counts\n",
    "\n",
    "Features describing the presence or absence of something often come in sets, the set of risk factors for a disease,You can aggregate such features by creating a count.\n",
    "\n",
    "These features will be binary (1 for Present, 0 for Absent) or boolean (True or False). In Python, booleans can be added up just as if they were integers.\n",
    "\n",
    "In Traffic Accidents are several features indicating whether some roadways object was near the accident. This will create a count of the total number of roadway features nearby using the sum method:"
   ],
   "metadata": {
    "collapsed": false,
    "pycharm": {
     "name": "#%% md\n"
    }
   }
  },
  {
   "cell_type": "code",
   "execution_count": 12,
   "outputs": [
    {
     "data": {
      "text/plain": "   Severity            StartTime              EndTime   StartLat    StartLng  \\\n0         2  2019-07-22 14:43:06  2019-07-22 16:22:19  34.789009  -82.483383   \n1         2  2019-03-20 16:12:14  2019-03-20 16:41:05  40.998264  -76.650396   \n2         3  2018-12-12 14:19:18  2018-12-12 14:48:56  33.461292 -112.082001   \n3         2  2018-03-09 08:02:11  2018-03-09 08:49:15  42.288445  -87.924911   \n4         2  2020-03-27 05:36:56  2020-03-27 06:36:48  36.229259  -86.594650   \n\n   Distance             Street          City State  Zipcode  ...  GiveWay  \\\n0     0.000        Highway 153    Greenville    SC    29611  ...    False   \n1     0.472   Continental Blvd      Danville    PA    17821  ...    False   \n2     0.000             I-10 W       Phoenix    AZ    85003  ...    False   \n3     0.000      Oak Spring Rd  Libertyville    IL    60048  ...    False   \n4     0.000   Saundersville Rd   Old Hickory    TN    37138  ...    False   \n\n   Junction  NoExit  Railway  Roundabout  Station   Stop  TrafficCalming  \\\n0     False   False    False       False    False  False           False   \n1     False   False    False       False    False  False           False   \n2     False   False    False       False    False  False           False   \n3     False   False    False       False    False  False           False   \n4     False   False    False       False    False  False           False   \n\n   TrafficSignal  LogWindSpeed  \n0          False      2.833213  \n1          False      2.322388  \n2          False      2.208274  \n3          False      1.916923  \n4          False      2.079442  \n\n[5 rows x 30 columns]",
      "text/html": "<div>\n<style scoped>\n    .dataframe tbody tr th:only-of-type {\n        vertical-align: middle;\n    }\n\n    .dataframe tbody tr th {\n        vertical-align: top;\n    }\n\n    .dataframe thead th {\n        text-align: right;\n    }\n</style>\n<table border=\"1\" class=\"dataframe\">\n  <thead>\n    <tr style=\"text-align: right;\">\n      <th></th>\n      <th>Severity</th>\n      <th>StartTime</th>\n      <th>EndTime</th>\n      <th>StartLat</th>\n      <th>StartLng</th>\n      <th>Distance</th>\n      <th>Street</th>\n      <th>City</th>\n      <th>State</th>\n      <th>Zipcode</th>\n      <th>...</th>\n      <th>GiveWay</th>\n      <th>Junction</th>\n      <th>NoExit</th>\n      <th>Railway</th>\n      <th>Roundabout</th>\n      <th>Station</th>\n      <th>Stop</th>\n      <th>TrafficCalming</th>\n      <th>TrafficSignal</th>\n      <th>LogWindSpeed</th>\n    </tr>\n  </thead>\n  <tbody>\n    <tr>\n      <th>0</th>\n      <td>2</td>\n      <td>2019-07-22 14:43:06</td>\n      <td>2019-07-22 16:22:19</td>\n      <td>34.789009</td>\n      <td>-82.483383</td>\n      <td>0.000</td>\n      <td>Highway 153</td>\n      <td>Greenville</td>\n      <td>SC</td>\n      <td>29611</td>\n      <td>...</td>\n      <td>False</td>\n      <td>False</td>\n      <td>False</td>\n      <td>False</td>\n      <td>False</td>\n      <td>False</td>\n      <td>False</td>\n      <td>False</td>\n      <td>False</td>\n      <td>2.833213</td>\n    </tr>\n    <tr>\n      <th>1</th>\n      <td>2</td>\n      <td>2019-03-20 16:12:14</td>\n      <td>2019-03-20 16:41:05</td>\n      <td>40.998264</td>\n      <td>-76.650396</td>\n      <td>0.472</td>\n      <td>Continental Blvd</td>\n      <td>Danville</td>\n      <td>PA</td>\n      <td>17821</td>\n      <td>...</td>\n      <td>False</td>\n      <td>False</td>\n      <td>False</td>\n      <td>False</td>\n      <td>False</td>\n      <td>False</td>\n      <td>False</td>\n      <td>False</td>\n      <td>False</td>\n      <td>2.322388</td>\n    </tr>\n    <tr>\n      <th>2</th>\n      <td>3</td>\n      <td>2018-12-12 14:19:18</td>\n      <td>2018-12-12 14:48:56</td>\n      <td>33.461292</td>\n      <td>-112.082001</td>\n      <td>0.000</td>\n      <td>I-10 W</td>\n      <td>Phoenix</td>\n      <td>AZ</td>\n      <td>85003</td>\n      <td>...</td>\n      <td>False</td>\n      <td>False</td>\n      <td>False</td>\n      <td>False</td>\n      <td>False</td>\n      <td>False</td>\n      <td>False</td>\n      <td>False</td>\n      <td>False</td>\n      <td>2.208274</td>\n    </tr>\n    <tr>\n      <th>3</th>\n      <td>2</td>\n      <td>2018-03-09 08:02:11</td>\n      <td>2018-03-09 08:49:15</td>\n      <td>42.288445</td>\n      <td>-87.924911</td>\n      <td>0.000</td>\n      <td>Oak Spring Rd</td>\n      <td>Libertyville</td>\n      <td>IL</td>\n      <td>60048</td>\n      <td>...</td>\n      <td>False</td>\n      <td>False</td>\n      <td>False</td>\n      <td>False</td>\n      <td>False</td>\n      <td>False</td>\n      <td>False</td>\n      <td>False</td>\n      <td>False</td>\n      <td>1.916923</td>\n    </tr>\n    <tr>\n      <th>4</th>\n      <td>2</td>\n      <td>2020-03-27 05:36:56</td>\n      <td>2020-03-27 06:36:48</td>\n      <td>36.229259</td>\n      <td>-86.594650</td>\n      <td>0.000</td>\n      <td>Saundersville Rd</td>\n      <td>Old Hickory</td>\n      <td>TN</td>\n      <td>37138</td>\n      <td>...</td>\n      <td>False</td>\n      <td>False</td>\n      <td>False</td>\n      <td>False</td>\n      <td>False</td>\n      <td>False</td>\n      <td>False</td>\n      <td>False</td>\n      <td>False</td>\n      <td>2.079442</td>\n    </tr>\n  </tbody>\n</table>\n<p>5 rows × 30 columns</p>\n</div>"
     },
     "execution_count": 12,
     "metadata": {},
     "output_type": "execute_result"
    }
   ],
   "source": [
    "accidents.head()"
   ],
   "metadata": {
    "collapsed": false,
    "pycharm": {
     "name": "#%%\n"
    }
   }
  },
  {
   "cell_type": "code",
   "execution_count": 16,
   "outputs": [
    {
     "data": {
      "text/plain": "       Amenity   Bump  Crossing  GiveWay  Junction  NoExit  Railway  \\\n76117     True  False      True     True     False   False     True   \n88150     True  False      True    False     False    True     True   \n32933     True  False      True    False     False   False     True   \n81616     True  False      True    False     False   False    False   \n75236     True  False      True    False     False   False     True   \n\n       Roundabout  Station   Stop  TrafficCalming  TrafficSignal  \\\n76117       False     True  False           False           True   \n88150       False     True  False           False           True   \n32933       False     True  False           False           True   \n81616       False     True   True           False           True   \n75236       False     True  False           False           True   \n\n       RoadwayFeatures  \n76117                6  \n88150                6  \n32933                5  \n81616                5  \n75236                5  ",
      "text/html": "<div>\n<style scoped>\n    .dataframe tbody tr th:only-of-type {\n        vertical-align: middle;\n    }\n\n    .dataframe tbody tr th {\n        vertical-align: top;\n    }\n\n    .dataframe thead th {\n        text-align: right;\n    }\n</style>\n<table border=\"1\" class=\"dataframe\">\n  <thead>\n    <tr style=\"text-align: right;\">\n      <th></th>\n      <th>Amenity</th>\n      <th>Bump</th>\n      <th>Crossing</th>\n      <th>GiveWay</th>\n      <th>Junction</th>\n      <th>NoExit</th>\n      <th>Railway</th>\n      <th>Roundabout</th>\n      <th>Station</th>\n      <th>Stop</th>\n      <th>TrafficCalming</th>\n      <th>TrafficSignal</th>\n      <th>RoadwayFeatures</th>\n    </tr>\n  </thead>\n  <tbody>\n    <tr>\n      <th>76117</th>\n      <td>True</td>\n      <td>False</td>\n      <td>True</td>\n      <td>True</td>\n      <td>False</td>\n      <td>False</td>\n      <td>True</td>\n      <td>False</td>\n      <td>True</td>\n      <td>False</td>\n      <td>False</td>\n      <td>True</td>\n      <td>6</td>\n    </tr>\n    <tr>\n      <th>88150</th>\n      <td>True</td>\n      <td>False</td>\n      <td>True</td>\n      <td>False</td>\n      <td>False</td>\n      <td>True</td>\n      <td>True</td>\n      <td>False</td>\n      <td>True</td>\n      <td>False</td>\n      <td>False</td>\n      <td>True</td>\n      <td>6</td>\n    </tr>\n    <tr>\n      <th>32933</th>\n      <td>True</td>\n      <td>False</td>\n      <td>True</td>\n      <td>False</td>\n      <td>False</td>\n      <td>False</td>\n      <td>True</td>\n      <td>False</td>\n      <td>True</td>\n      <td>False</td>\n      <td>False</td>\n      <td>True</td>\n      <td>5</td>\n    </tr>\n    <tr>\n      <th>81616</th>\n      <td>True</td>\n      <td>False</td>\n      <td>True</td>\n      <td>False</td>\n      <td>False</td>\n      <td>False</td>\n      <td>False</td>\n      <td>False</td>\n      <td>True</td>\n      <td>True</td>\n      <td>False</td>\n      <td>True</td>\n      <td>5</td>\n    </tr>\n    <tr>\n      <th>75236</th>\n      <td>True</td>\n      <td>False</td>\n      <td>True</td>\n      <td>False</td>\n      <td>False</td>\n      <td>False</td>\n      <td>True</td>\n      <td>False</td>\n      <td>True</td>\n      <td>False</td>\n      <td>False</td>\n      <td>True</td>\n      <td>5</td>\n    </tr>\n  </tbody>\n</table>\n</div>"
     },
     "execution_count": 16,
     "metadata": {},
     "output_type": "execute_result"
    }
   ],
   "source": [
    "roadway_features = [\"Amenity\", \"Bump\", \"Crossing\", \"GiveWay\",\n",
    "                    \"Junction\", \"NoExit\", \"Railway\", \"Roundabout\", \"Station\", \"Stop\",\n",
    "                    \"TrafficCalming\", \"TrafficSignal\"]\n",
    "accidents[\"RoadwayFeatures\"] = accidents[roadway_features].sum(axis=1)\n",
    "\n",
    "accidents_roadway_features = accidents[roadway_features + [\"RoadwayFeatures\"]]\n",
    "\n",
    "# axis=0 (default value) means sort dataframe by rows, if axis=1, it will sort by column.\n",
    "accidents_roadway_features.sort_values(\"RoadwayFeatures\",axis=0,ascending=False).head()"
   ],
   "metadata": {
    "collapsed": false,
    "pycharm": {
     "name": "#%%\n"
    }
   }
  },
  {
   "cell_type": "markdown",
   "source": [
    "You could also use a dataframe's built-in methods to create boolean values. In the Concrete dataset are the amounts of components in a concrete formulation. Many formulations lack one or more components (that is, the component has a value of 0). This will count how many components are in a formulation with the dataframe's built-in greater-than gt method:"
   ],
   "metadata": {
    "collapsed": false,
    "pycharm": {
     "name": "#%% md\n"
    }
   }
  },
  {
   "cell_type": "code",
   "execution_count": 17,
   "outputs": [
    {
     "data": {
      "text/plain": "   Cement  BlastFurnaceSlag  FlyAsh  Water  Superplasticizer  CoarseAggregate  \\\n0   540.0               0.0     0.0  162.0               2.5           1040.0   \n1   540.0               0.0     0.0  162.0               2.5           1055.0   \n2   332.5             142.5     0.0  228.0               0.0            932.0   \n3   332.5             142.5     0.0  228.0               0.0            932.0   \n4   198.6             132.4     0.0  192.0               0.0            978.4   \n5   266.0             114.0     0.0  228.0               0.0            932.0   \n6   380.0              95.0     0.0  228.0               0.0            932.0   \n7   380.0              95.0     0.0  228.0               0.0            932.0   \n8   266.0             114.0     0.0  228.0               0.0            932.0   \n9   475.0               0.0     0.0  228.0               0.0            932.0   \n\n   FineAggregate  Components  \n0          676.0           5  \n1          676.0           5  \n2          594.0           5  \n3          594.0           5  \n4          825.5           5  \n5          670.0           5  \n6          594.0           5  \n7          594.0           5  \n8          670.0           5  \n9          594.0           4  ",
      "text/html": "<div>\n<style scoped>\n    .dataframe tbody tr th:only-of-type {\n        vertical-align: middle;\n    }\n\n    .dataframe tbody tr th {\n        vertical-align: top;\n    }\n\n    .dataframe thead th {\n        text-align: right;\n    }\n</style>\n<table border=\"1\" class=\"dataframe\">\n  <thead>\n    <tr style=\"text-align: right;\">\n      <th></th>\n      <th>Cement</th>\n      <th>BlastFurnaceSlag</th>\n      <th>FlyAsh</th>\n      <th>Water</th>\n      <th>Superplasticizer</th>\n      <th>CoarseAggregate</th>\n      <th>FineAggregate</th>\n      <th>Components</th>\n    </tr>\n  </thead>\n  <tbody>\n    <tr>\n      <th>0</th>\n      <td>540.0</td>\n      <td>0.0</td>\n      <td>0.0</td>\n      <td>162.0</td>\n      <td>2.5</td>\n      <td>1040.0</td>\n      <td>676.0</td>\n      <td>5</td>\n    </tr>\n    <tr>\n      <th>1</th>\n      <td>540.0</td>\n      <td>0.0</td>\n      <td>0.0</td>\n      <td>162.0</td>\n      <td>2.5</td>\n      <td>1055.0</td>\n      <td>676.0</td>\n      <td>5</td>\n    </tr>\n    <tr>\n      <th>2</th>\n      <td>332.5</td>\n      <td>142.5</td>\n      <td>0.0</td>\n      <td>228.0</td>\n      <td>0.0</td>\n      <td>932.0</td>\n      <td>594.0</td>\n      <td>5</td>\n    </tr>\n    <tr>\n      <th>3</th>\n      <td>332.5</td>\n      <td>142.5</td>\n      <td>0.0</td>\n      <td>228.0</td>\n      <td>0.0</td>\n      <td>932.0</td>\n      <td>594.0</td>\n      <td>5</td>\n    </tr>\n    <tr>\n      <th>4</th>\n      <td>198.6</td>\n      <td>132.4</td>\n      <td>0.0</td>\n      <td>192.0</td>\n      <td>0.0</td>\n      <td>978.4</td>\n      <td>825.5</td>\n      <td>5</td>\n    </tr>\n    <tr>\n      <th>5</th>\n      <td>266.0</td>\n      <td>114.0</td>\n      <td>0.0</td>\n      <td>228.0</td>\n      <td>0.0</td>\n      <td>932.0</td>\n      <td>670.0</td>\n      <td>5</td>\n    </tr>\n    <tr>\n      <th>6</th>\n      <td>380.0</td>\n      <td>95.0</td>\n      <td>0.0</td>\n      <td>228.0</td>\n      <td>0.0</td>\n      <td>932.0</td>\n      <td>594.0</td>\n      <td>5</td>\n    </tr>\n    <tr>\n      <th>7</th>\n      <td>380.0</td>\n      <td>95.0</td>\n      <td>0.0</td>\n      <td>228.0</td>\n      <td>0.0</td>\n      <td>932.0</td>\n      <td>594.0</td>\n      <td>5</td>\n    </tr>\n    <tr>\n      <th>8</th>\n      <td>266.0</td>\n      <td>114.0</td>\n      <td>0.0</td>\n      <td>228.0</td>\n      <td>0.0</td>\n      <td>932.0</td>\n      <td>670.0</td>\n      <td>5</td>\n    </tr>\n    <tr>\n      <th>9</th>\n      <td>475.0</td>\n      <td>0.0</td>\n      <td>0.0</td>\n      <td>228.0</td>\n      <td>0.0</td>\n      <td>932.0</td>\n      <td>594.0</td>\n      <td>4</td>\n    </tr>\n  </tbody>\n</table>\n</div>"
     },
     "execution_count": 17,
     "metadata": {},
     "output_type": "execute_result"
    }
   ],
   "source": [
    "components = [ \"Cement\", \"BlastFurnaceSlag\", \"FlyAsh\", \"Water\",\n",
    "               \"Superplasticizer\", \"CoarseAggregate\", \"FineAggregate\"]\n",
    "concrete[\"Components\"] = concrete[components].gt(0).sum(axis=1)\n",
    "\n",
    "concrete[components + [\"Components\"]].head(10)"
   ],
   "metadata": {
    "collapsed": false,
    "pycharm": {
     "name": "#%%\n"
    }
   }
  },
  {
   "cell_type": "markdown",
   "source": [
    "## 3.3 Building-Up and Breaking-Down Features\n",
    "\n",
    "Often you'll have complex strings that can usefully be broken into simpler pieces. Some common examples:\n",
    "\n",
    "ID numbers: '123-45-6789'\n",
    "Phone numbers: '(999) 555-0123'\n",
    "Street addresses: '8241 Kaggle Ln., Goose City, NV'\n",
    "Internet addresses: 'http://www.kaggle.com\n",
    "Product codes: '0 36000 29145 2'\n",
    "Dates and times: 'Mon Sep 30 07:06:05 2013'\n",
    "\n",
    "Features like these will often have some kind of structure that you can make use of. US phone numbers, for instance, have an area code (the '(999)' part) that tells you the location of the caller. As always, some research can pay off here.\n",
    "\n",
    "The str accessor lets you apply string methods like split directly to columns. The Customer Lifetime Value dataset contains features describing customers of an insurance company. From the Policy feature, we could separate the Type from the Level of coverage:"
   ],
   "metadata": {
    "collapsed": false,
    "pycharm": {
     "name": "#%% md\n"
    }
   }
  },
  {
   "cell_type": "code",
   "execution_count": 18,
   "outputs": [],
   "source": [
    "customer[[\"Type\", \"Level\"]] = (  # Create two new features\n",
    "    customer[\"Policy\"]           # from the Policy feature\n",
    "    .str                         # through the string accessor\n",
    "    .split(\" \", expand=True)     # by splitting on \" \"\n",
    "                                 # and expanding the result into separate columns\n",
    ")"
   ],
   "metadata": {
    "collapsed": false,
    "pycharm": {
     "name": "#%%\n"
    }
   }
  },
  {
   "cell_type": "code",
   "execution_count": 19,
   "outputs": [
    {
     "data": {
      "text/plain": "         Policy       Type Level\n0  Corporate L3  Corporate    L3\n1   Personal L3   Personal    L3\n2   Personal L3   Personal    L3\n3  Corporate L2  Corporate    L2\n4   Personal L1   Personal    L1\n5   Personal L3   Personal    L3\n6  Corporate L3  Corporate    L3\n7  Corporate L3  Corporate    L3\n8  Corporate L3  Corporate    L3\n9    Special L2    Special    L2",
      "text/html": "<div>\n<style scoped>\n    .dataframe tbody tr th:only-of-type {\n        vertical-align: middle;\n    }\n\n    .dataframe tbody tr th {\n        vertical-align: top;\n    }\n\n    .dataframe thead th {\n        text-align: right;\n    }\n</style>\n<table border=\"1\" class=\"dataframe\">\n  <thead>\n    <tr style=\"text-align: right;\">\n      <th></th>\n      <th>Policy</th>\n      <th>Type</th>\n      <th>Level</th>\n    </tr>\n  </thead>\n  <tbody>\n    <tr>\n      <th>0</th>\n      <td>Corporate L3</td>\n      <td>Corporate</td>\n      <td>L3</td>\n    </tr>\n    <tr>\n      <th>1</th>\n      <td>Personal L3</td>\n      <td>Personal</td>\n      <td>L3</td>\n    </tr>\n    <tr>\n      <th>2</th>\n      <td>Personal L3</td>\n      <td>Personal</td>\n      <td>L3</td>\n    </tr>\n    <tr>\n      <th>3</th>\n      <td>Corporate L2</td>\n      <td>Corporate</td>\n      <td>L2</td>\n    </tr>\n    <tr>\n      <th>4</th>\n      <td>Personal L1</td>\n      <td>Personal</td>\n      <td>L1</td>\n    </tr>\n    <tr>\n      <th>5</th>\n      <td>Personal L3</td>\n      <td>Personal</td>\n      <td>L3</td>\n    </tr>\n    <tr>\n      <th>6</th>\n      <td>Corporate L3</td>\n      <td>Corporate</td>\n      <td>L3</td>\n    </tr>\n    <tr>\n      <th>7</th>\n      <td>Corporate L3</td>\n      <td>Corporate</td>\n      <td>L3</td>\n    </tr>\n    <tr>\n      <th>8</th>\n      <td>Corporate L3</td>\n      <td>Corporate</td>\n      <td>L3</td>\n    </tr>\n    <tr>\n      <th>9</th>\n      <td>Special L2</td>\n      <td>Special</td>\n      <td>L2</td>\n    </tr>\n  </tbody>\n</table>\n</div>"
     },
     "execution_count": 19,
     "metadata": {},
     "output_type": "execute_result"
    }
   ],
   "source": [
    "customer[[\"Policy\", \"Type\", \"Level\"]].head(10)"
   ],
   "metadata": {
    "collapsed": false,
    "pycharm": {
     "name": "#%%\n"
    }
   }
  },
  {
   "cell_type": "markdown",
   "source": [
    "You could also join simple features into a composed feature if you had reason to believe there was some interaction in the combination:"
   ],
   "metadata": {
    "collapsed": false,
    "pycharm": {
     "name": "#%% md\n"
    }
   }
  },
  {
   "cell_type": "code",
   "execution_count": 20,
   "outputs": [
    {
     "data": {
      "text/plain": "          make   body_style           make_and_style\n0  alfa-romero  convertible  alfa-romero_convertible\n1  alfa-romero  convertible  alfa-romero_convertible\n2  alfa-romero    hatchback    alfa-romero_hatchback\n3         audi        sedan               audi_sedan\n4         audi        sedan               audi_sedan",
      "text/html": "<div>\n<style scoped>\n    .dataframe tbody tr th:only-of-type {\n        vertical-align: middle;\n    }\n\n    .dataframe tbody tr th {\n        vertical-align: top;\n    }\n\n    .dataframe thead th {\n        text-align: right;\n    }\n</style>\n<table border=\"1\" class=\"dataframe\">\n  <thead>\n    <tr style=\"text-align: right;\">\n      <th></th>\n      <th>make</th>\n      <th>body_style</th>\n      <th>make_and_style</th>\n    </tr>\n  </thead>\n  <tbody>\n    <tr>\n      <th>0</th>\n      <td>alfa-romero</td>\n      <td>convertible</td>\n      <td>alfa-romero_convertible</td>\n    </tr>\n    <tr>\n      <th>1</th>\n      <td>alfa-romero</td>\n      <td>convertible</td>\n      <td>alfa-romero_convertible</td>\n    </tr>\n    <tr>\n      <th>2</th>\n      <td>alfa-romero</td>\n      <td>hatchback</td>\n      <td>alfa-romero_hatchback</td>\n    </tr>\n    <tr>\n      <th>3</th>\n      <td>audi</td>\n      <td>sedan</td>\n      <td>audi_sedan</td>\n    </tr>\n    <tr>\n      <th>4</th>\n      <td>audi</td>\n      <td>sedan</td>\n      <td>audi_sedan</td>\n    </tr>\n  </tbody>\n</table>\n</div>"
     },
     "execution_count": 20,
     "metadata": {},
     "output_type": "execute_result"
    }
   ],
   "source": [
    "autos[\"make_and_style\"] = autos[\"make\"] + \"_\" + autos[\"body_style\"]\n",
    "autos[[\"make\", \"body_style\", \"make_and_style\"]].head()"
   ],
   "metadata": {
    "collapsed": false,
    "pycharm": {
     "name": "#%%\n"
    }
   }
  },
  {
   "cell_type": "markdown",
   "source": [
    "#### For combining specific type of columns:\n",
    "\n",
    "There are a few other kinds of data we haven't talked about here that are especially rich in information. Fortunately, we've got you covered!\n",
    "\n",
    "- For dates and times, see [Parsing Dates](https://www.kaggle.com/code/alexisbcook/parsing-dates/tutorial) from our Data Cleaning course.\n",
    "- For latitudes and longitudes, see our [Geospatial Analysis](https://www.kaggle.com/learn/geospatial-analysis) course.\n",
    "- For text, try Natural Language Processing."
   ],
   "metadata": {
    "collapsed": false,
    "pycharm": {
     "name": "#%% md\n"
    }
   }
  },
  {
   "cell_type": "markdown",
   "source": [
    "## 3.4 Group Transforms\n",
    "\n",
    "Finally, we have Group transforms, which aggregate information across multiple rows grouped by some category. With a group transform you can create features like: \"the average income of a person's state of residence,\" or \"the proportion of movies released on a weekday, by genre.\" If you had discovered a category interaction, a group transform over that category could be something good to investigate.\n",
    "\n",
    "Using an aggregation function, a group transform combines two features: a categorical feature that provides the grouping and another feature whose values you wish to aggregate. For an \"average income by state\", you would choose State for the grouping feature, mean for the aggregation function, and Income for the aggregated feature. To compute this in Pandas, we use the groupby and transform methods:"
   ],
   "metadata": {
    "collapsed": false,
    "pycharm": {
     "name": "#%% md\n"
    }
   }
  },
  {
   "cell_type": "code",
   "execution_count": 21,
   "outputs": [
    {
     "data": {
      "text/plain": "        State  Income  AverageIncome\n0  Washington   56274   38122.733083\n1     Arizona       0   37405.402231\n2      Nevada   48767   38369.605442\n3  California       0   37558.946667\n4  Washington   43836   38122.733083\n5      Oregon   62902   37557.283353\n6      Oregon   55350   37557.283353\n7     Arizona       0   37405.402231\n8      Oregon   14072   37557.283353\n9      Oregon   28812   37557.283353",
      "text/html": "<div>\n<style scoped>\n    .dataframe tbody tr th:only-of-type {\n        vertical-align: middle;\n    }\n\n    .dataframe tbody tr th {\n        vertical-align: top;\n    }\n\n    .dataframe thead th {\n        text-align: right;\n    }\n</style>\n<table border=\"1\" class=\"dataframe\">\n  <thead>\n    <tr style=\"text-align: right;\">\n      <th></th>\n      <th>State</th>\n      <th>Income</th>\n      <th>AverageIncome</th>\n    </tr>\n  </thead>\n  <tbody>\n    <tr>\n      <th>0</th>\n      <td>Washington</td>\n      <td>56274</td>\n      <td>38122.733083</td>\n    </tr>\n    <tr>\n      <th>1</th>\n      <td>Arizona</td>\n      <td>0</td>\n      <td>37405.402231</td>\n    </tr>\n    <tr>\n      <th>2</th>\n      <td>Nevada</td>\n      <td>48767</td>\n      <td>38369.605442</td>\n    </tr>\n    <tr>\n      <th>3</th>\n      <td>California</td>\n      <td>0</td>\n      <td>37558.946667</td>\n    </tr>\n    <tr>\n      <th>4</th>\n      <td>Washington</td>\n      <td>43836</td>\n      <td>38122.733083</td>\n    </tr>\n    <tr>\n      <th>5</th>\n      <td>Oregon</td>\n      <td>62902</td>\n      <td>37557.283353</td>\n    </tr>\n    <tr>\n      <th>6</th>\n      <td>Oregon</td>\n      <td>55350</td>\n      <td>37557.283353</td>\n    </tr>\n    <tr>\n      <th>7</th>\n      <td>Arizona</td>\n      <td>0</td>\n      <td>37405.402231</td>\n    </tr>\n    <tr>\n      <th>8</th>\n      <td>Oregon</td>\n      <td>14072</td>\n      <td>37557.283353</td>\n    </tr>\n    <tr>\n      <th>9</th>\n      <td>Oregon</td>\n      <td>28812</td>\n      <td>37557.283353</td>\n    </tr>\n  </tbody>\n</table>\n</div>"
     },
     "execution_count": 21,
     "metadata": {},
     "output_type": "execute_result"
    }
   ],
   "source": [
    "customer[\"AverageIncome\"] = (\n",
    "    customer.groupby(\"State\")  # for each state\n",
    "    [\"Income\"]                 # select the income\n",
    "    .transform(\"mean\")         # and compute its mean\n",
    ")\n",
    "\n",
    "customer[[\"State\", \"Income\", \"AverageIncome\"]].head(10)"
   ],
   "metadata": {
    "collapsed": false,
    "pycharm": {
     "name": "#%%\n"
    }
   }
  },
  {
   "cell_type": "markdown",
   "source": [
    "The mean function is a built-in dataframe method, which means we can pass it as a string to transform. Other handy methods include max, min, median, var, std, and count. Here's how you could calculate the frequency with which each state occurs in the dataset:"
   ],
   "metadata": {
    "collapsed": false,
    "pycharm": {
     "name": "#%% md\n"
    }
   }
  },
  {
   "cell_type": "code",
   "execution_count": 22,
   "outputs": [
    {
     "data": {
      "text/plain": "        State  StateFreq\n0  Washington   0.087366\n1     Arizona   0.186446\n2      Nevada   0.096562\n3  California   0.344865\n4  Washington   0.087366\n5      Oregon   0.284760\n6      Oregon   0.284760\n7     Arizona   0.186446\n8      Oregon   0.284760\n9      Oregon   0.284760",
      "text/html": "<div>\n<style scoped>\n    .dataframe tbody tr th:only-of-type {\n        vertical-align: middle;\n    }\n\n    .dataframe tbody tr th {\n        vertical-align: top;\n    }\n\n    .dataframe thead th {\n        text-align: right;\n    }\n</style>\n<table border=\"1\" class=\"dataframe\">\n  <thead>\n    <tr style=\"text-align: right;\">\n      <th></th>\n      <th>State</th>\n      <th>StateFreq</th>\n    </tr>\n  </thead>\n  <tbody>\n    <tr>\n      <th>0</th>\n      <td>Washington</td>\n      <td>0.087366</td>\n    </tr>\n    <tr>\n      <th>1</th>\n      <td>Arizona</td>\n      <td>0.186446</td>\n    </tr>\n    <tr>\n      <th>2</th>\n      <td>Nevada</td>\n      <td>0.096562</td>\n    </tr>\n    <tr>\n      <th>3</th>\n      <td>California</td>\n      <td>0.344865</td>\n    </tr>\n    <tr>\n      <th>4</th>\n      <td>Washington</td>\n      <td>0.087366</td>\n    </tr>\n    <tr>\n      <th>5</th>\n      <td>Oregon</td>\n      <td>0.284760</td>\n    </tr>\n    <tr>\n      <th>6</th>\n      <td>Oregon</td>\n      <td>0.284760</td>\n    </tr>\n    <tr>\n      <th>7</th>\n      <td>Arizona</td>\n      <td>0.186446</td>\n    </tr>\n    <tr>\n      <th>8</th>\n      <td>Oregon</td>\n      <td>0.284760</td>\n    </tr>\n    <tr>\n      <th>9</th>\n      <td>Oregon</td>\n      <td>0.284760</td>\n    </tr>\n  </tbody>\n</table>\n</div>"
     },
     "execution_count": 22,
     "metadata": {},
     "output_type": "execute_result"
    }
   ],
   "source": [
    "customer[\"StateFreq\"] = (\n",
    "    customer.groupby(\"State\")\n",
    "    [\"State\"]\n",
    "    .transform(\"count\")\n",
    "    / customer.State.count()\n",
    ")\n",
    "\n",
    "customer[[\"State\", \"StateFreq\"]].head(10)"
   ],
   "metadata": {
    "collapsed": false,
    "pycharm": {
     "name": "#%%\n"
    }
   }
  },
  {
   "cell_type": "markdown",
   "source": [
    "You could use a transform like this to create a \"frequency encoding\" for a categorical feature.\n",
    "\n",
    "If you're using training and validation splits, to preserve their independence, it's best to create a grouped feature using only the training set and then join it to the validation set. We can use the validation set's merge method after creating a unique set of values with drop_duplicates on the training set:"
   ],
   "metadata": {
    "collapsed": false,
    "pycharm": {
     "name": "#%% md\n"
    }
   }
  },
  {
   "cell_type": "code",
   "source": [
    "# Create splits\n",
    "df_train = customer.sample(frac=0.5)\n",
    "df_valid = customer.drop(df_train.index)\n",
    "\n",
    "# Create the average claim amount by coverage type, on the training set\n",
    "df_train[\"AverageClaim\"] = df_train.groupby(\"Coverage\")[\"ClaimAmount\"].transform(\"mean\")\n",
    "\n",
    "# Merge the values into the validation set\n",
    "df_valid = df_valid.merge(\n",
    "    df_train[[\"Coverage\", \"AverageClaim\"]].drop_duplicates(),\n",
    "    on=\"Coverage\",\n",
    "    how=\"left\",\n",
    ")\n",
    "\n",
    "df_valid[[\"Coverage\", \"AverageClaim\"]].head(10)"
   ],
   "metadata": {
    "collapsed": false,
    "pycharm": {
     "name": "#%%\n"
    }
   },
   "execution_count": 24,
   "outputs": [
    {
     "data": {
      "text/plain": "   Coverage  AverageClaim\n0  Extended    473.273348\n1     Basic    373.287674\n2     Basic    373.287674\n3     Basic    373.287674\n4  Extended    473.273348\n5     Basic    373.287674\n6   Premium    635.333049\n7     Basic    373.287674\n8     Basic    373.287674\n9     Basic    373.287674",
      "text/html": "<div>\n<style scoped>\n    .dataframe tbody tr th:only-of-type {\n        vertical-align: middle;\n    }\n\n    .dataframe tbody tr th {\n        vertical-align: top;\n    }\n\n    .dataframe thead th {\n        text-align: right;\n    }\n</style>\n<table border=\"1\" class=\"dataframe\">\n  <thead>\n    <tr style=\"text-align: right;\">\n      <th></th>\n      <th>Coverage</th>\n      <th>AverageClaim</th>\n    </tr>\n  </thead>\n  <tbody>\n    <tr>\n      <th>0</th>\n      <td>Extended</td>\n      <td>473.273348</td>\n    </tr>\n    <tr>\n      <th>1</th>\n      <td>Basic</td>\n      <td>373.287674</td>\n    </tr>\n    <tr>\n      <th>2</th>\n      <td>Basic</td>\n      <td>373.287674</td>\n    </tr>\n    <tr>\n      <th>3</th>\n      <td>Basic</td>\n      <td>373.287674</td>\n    </tr>\n    <tr>\n      <th>4</th>\n      <td>Extended</td>\n      <td>473.273348</td>\n    </tr>\n    <tr>\n      <th>5</th>\n      <td>Basic</td>\n      <td>373.287674</td>\n    </tr>\n    <tr>\n      <th>6</th>\n      <td>Premium</td>\n      <td>635.333049</td>\n    </tr>\n    <tr>\n      <th>7</th>\n      <td>Basic</td>\n      <td>373.287674</td>\n    </tr>\n    <tr>\n      <th>8</th>\n      <td>Basic</td>\n      <td>373.287674</td>\n    </tr>\n    <tr>\n      <th>9</th>\n      <td>Basic</td>\n      <td>373.287674</td>\n    </tr>\n  </tbody>\n</table>\n</div>"
     },
     "execution_count": 24,
     "metadata": {},
     "output_type": "execute_result"
    }
   ]
  },
  {
   "cell_type": "markdown",
   "source": [
    "## Tips on Creating Features\n",
    "It's good to keep in mind your model's own strengths and weaknesses when creating features. Here are some guidelines:\n",
    "- Linear models learn sums and differences naturally, but can't learn anything more complex.\n",
    "- Ratios seem to be difficult for most models to learn. Ratio combinations often lead to some easy performance gains.\n",
    "- Linear models and neural nets generally do better with normalized features. Neural nets especially need features scaled to value not too far from 0. Tree-based models (like random forests and XGBoost) can sometimes benefit from normalization, but usually much less so.\n",
    "- Tree models can learn to approximate almost any combination of features, but when a combination is especially important they can still benefit from having it explicitly created, especially when data is limited.\n",
    "- Counts are especially helpful for tree models, since these models don't have a natural way of aggregating information across many features at once."
   ],
   "metadata": {
    "collapsed": false,
    "pycharm": {
     "name": "#%% md\n"
    }
   }
  }
 ],
 "metadata": {
  "kernelspec": {
   "display_name": "Python 3",
   "language": "python",
   "name": "python3"
  },
  "language_info": {
   "codemirror_mode": {
    "name": "ipython",
    "version": 2
   },
   "file_extension": ".py",
   "mimetype": "text/x-python",
   "name": "python",
   "nbconvert_exporter": "python",
   "pygments_lexer": "ipython2",
   "version": "2.7.6"
  }
 },
 "nbformat": 4,
 "nbformat_minor": 0
}