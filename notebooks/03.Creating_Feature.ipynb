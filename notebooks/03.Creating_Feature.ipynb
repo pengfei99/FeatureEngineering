{
 "cells": [
  {
   "cell_type": "markdown",
   "metadata": {
    "collapsed": true,
    "pycharm": {
     "name": "#%% md\n"
    }
   },
   "source": [
    "# 3 Creating feature\n",
    "\n",
    "Once you've identified a set of features with some potential, it's time to start developing them. In this lesson, you'll learn a number of common transformations you can do entirely in Pandas. \n",
    "\n",
    "We'll use four datasets in this lesson having a range of feature types:\n",
    "- \n",
    "\n",
    "\n",
    "\n",
    "- https://www.kaggle.com/datasets/pankajjsh06/ibm-watson-marketing-customer-value-data"
   ]
  }
 ],
 "metadata": {
  "kernelspec": {
   "display_name": "Python 3",
   "language": "python",
   "name": "python3"
  },
  "language_info": {
   "codemirror_mode": {
    "name": "ipython",
    "version": 2
   },
   "file_extension": ".py",
   "mimetype": "text/x-python",
   "name": "python",
   "nbconvert_exporter": "python",
   "pygments_lexer": "ipython2",
   "version": "2.7.6"
  }
 },
 "nbformat": 4,
 "nbformat_minor": 0
}