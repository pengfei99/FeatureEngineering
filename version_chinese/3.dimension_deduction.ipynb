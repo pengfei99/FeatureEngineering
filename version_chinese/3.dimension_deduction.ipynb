{
 "cells": [
  {
   "cell_type": "markdown",
   "metadata": {},
   "source": [
    "# Dimension Reduction 特征降维"
   ]
  },
  {
   "cell_type": "markdown",
   "metadata": {},
   "source": [
    "经过数据预处理和特征选择，我们已经生成了一个很好的特征子集。但是有时该子集可能仍然包含过多特征，导致需要花费太多的计算能力用以训练模型。在这种情况下，我们可以使用降维技术进一步压缩特征子集。但这可能会降低模型性能。\n",
    "\n",
    "同时，如果我们没有太多时间进行特征选择，我们也可以在数据预处理之后直接应用降维方法。我们可以使用降维算法来压缩原始特征空间直接生成特征子集。\n",
    "\n",
    "具体来说，我们将分别介绍PCA和LDA（线性判别分析）。"
   ]
  },
  {
   "cell_type": "markdown",
   "metadata": {},
   "source": [
    "## Unsupervised Methods 非监督方法"
   ]
  },
  {
   "cell_type": "markdown",
   "metadata": {},
   "source": [
    "### PCA (Principal Components Analysis) 主成分分析"
   ]
  },
  {
   "cell_type": "markdown",
   "metadata": {},
   "source": [
    "主成分分析（PCA）是一种无监督机器学习模型，其目标为利用线性变换将原始特征投影为一系列线性不相关的单位向量，而同时保留尽可能多的信息（方差）。您可以从我们在Github中编写的[repo](https://github.com/YC-Coder-Chen/Unsupervised-Notes/blob/master/PCA.md)中查看更多数学细节。"
   ]
  },
  {
   "cell_type": "code",
   "execution_count": 1,
   "metadata": {
    "ExecuteTime": {
     "end_time": "2020-03-30T03:37:20.574170Z",
     "start_time": "2020-03-30T03:37:18.879555Z"
    }
   },
   "outputs": [],
   "source": [
    "import numpy as np\n",
    "import pandas as pd\n",
    "from sklearn.decomposition import PCA\n",
    "\n",
    "# 直接载入数据集\n",
    "from sklearn.datasets import fetch_california_housing\n",
    "dataset = fetch_california_housing()\n",
    "X, y = dataset.data, dataset.target # 利用 california_housing 数据集来演示\n",
    "\n",
    "# 选择前15000个观测点作为训练集\n",
    "# 剩下的作为测试集\n",
    "train_set = X[0:15000,:]\n",
    "test_set = X[15000:,]\n",
    "train_y = y[0:15000]\n",
    "\n",
    "# 在使用主成分分析前，我们需要先对变量进行缩放操作，否则PCA将会赋予高尺度的特征过多的权重\n",
    "from sklearn.preprocessing import StandardScaler\n",
    "model = StandardScaler()\n",
    "model.fit(train_set) \n",
    "standardized_train = model.transform(train_set)\n",
    "standardized_test = model.transform(test_set)\n",
    "\n",
    "# 开始压缩特征\n",
    "compressor = PCA(n_components=0.9) \n",
    "# 将n_components设置为0.9 =>\n",
    "# 即要求我们从所有主成分中选取的输出主成分至少能保留原特征中90%的方差\n",
    "# 我们也可以通过设置n_components参数为整数直接控制输出的变量数目\n",
    "\n",
    "compressor.fit(standardized_train) # 在训练集上训练\n",
    "transformed_trainset = compressor.transform(standardized_train) # 转换训练集 (20000,5)\n",
    "# 即我们从8个主成分中选取了前5个主成分，而这前5个主成分可以保证保留原特征中90%的方差\n",
    "\n",
    "transformed_testset = compressor.transform(standardized_test) # 转换测试集\n",
    "assert transformed_trainset.shape[1] == transformed_testset.shape[1] \n",
    "# 转换后训练集和测试集有相同的特征数"
   ]
  },
  {
   "cell_type": "code",
   "execution_count": 2,
   "metadata": {
    "ExecuteTime": {
     "end_time": "2020-03-30T03:37:21.146354Z",
     "start_time": "2020-03-30T03:37:20.576580Z"
    }
   },
   "outputs": [
    {
     "data": {
      "image/png": "[encoded data removed]",
      "text/plain": [
       "<Figure size 432x288 with 1 Axes>"
      ]
     },
     "metadata": {
      "needs_background": "light"
     },
     "output_type": "display_data"
    }
   ],
   "source": [
    "# 可视化 所解释的方差与选取的主成分数目之间的关系\n",
    "\n",
    "import matplotlib.pyplot as plt\n",
    "plt.rcParams['font.sans-serif']=['SimHei']\n",
    "%matplotlib inline\n",
    "\n",
    "\n",
    "plt.plot(np.array(range(len(compressor.explained_variance_ratio_))) + 1, \n",
    "         np.cumsum(compressor.explained_variance_ratio_))\n",
    "plt.xlabel('选取的主成分数目')\n",
    "plt.ylabel('累计所解释的方差累')\n",
    "plt.show(); # 前5个主成分可以保证保留原特征中90%的方差"
   ]
  },
  {
   "cell_type": "markdown",
   "metadata": {},
   "source": [
    "## Supervised Methods 监督方法"
   ]
  },
  {
   "cell_type": "markdown",
   "metadata": {},
   "source": [
    "### LDA (Linear Discriminant Analysis) 线性判别分析"
   ]
  },
  {
   "cell_type": "markdown",
   "metadata": {},
   "source": [
    "与主成分分析（PCA）不同的是，线性判别分析（LDA）是一种有监督机器学习模型，旨在找到特征子集以最大化类线性可分离性，即希望投影望同一种类别数据的投影点尽可能的接近，而不同类别的数据的类别中心之间的距离尽可能的大。线性判别分析仅适用于分类问题，其假设各个类别的样本数据符合高斯分布，并且具有相同的协方差矩阵。\n",
    "\n",
    "可以在sklearn的[官方网站](https://scikit-learn.org/stable/modules/lda_qda.html#lda-qda)上了解更多原理方面的详细信息。LDA会将原始变量压缩为（K-1）个，其中K是目标变量类别数。但是在sklearn中，通过将主成分分析的思想合并到LDA中，其可以进一步压缩变量。"
   ]
  },
  {
   "cell_type": "code",
   "execution_count": 3,
   "metadata": {
    "ExecuteTime": {
     "end_time": "2020-03-30T03:37:21.167912Z",
     "start_time": "2020-03-30T03:37:21.148967Z"
    }
   },
   "outputs": [],
   "source": [
    "import numpy as np\n",
    "import pandas as pd\n",
    "from sklearn.discriminant_analysis import LinearDiscriminantAnalysis as LDA\n",
    "\n",
    "# LDA仅适用于分类问题\n",
    "# 载入数据集\n",
    "from sklearn.datasets import load_iris\n",
    "iris = load_iris()\n",
    "X, y = iris.data, iris.target\n",
    "\n",
    "# iris 数据集使用前需要被打乱顺序\n",
    "np.random.seed(1234)\n",
    "idx = np.random.permutation(len(X))\n",
    "X = X[idx]\n",
    "y = y[idx]\n",
    "\n",
    "# 选择前100个观测点作为训练集\n",
    "# 剩下的50个观测点测试集\n",
    "\n",
    "train_set = X[0:100,:]\n",
    "test_set = X[100:,]\n",
    "train_y = y[0:100]\n",
    "test_y = y[100:,]\n",
    "\n",
    "# 在使用主成分分析前，我们需要先对变量进行缩放操作\n",
    "# 因为LDA假定数据服从正态分布\n",
    "\n",
    "from sklearn.preprocessing import StandardScaler # 我们也可以采用幂次变换\n",
    "model = StandardScaler()\n",
    "model.fit(train_set) \n",
    "standardized_train = model.transform(train_set)\n",
    "standardized_test = model.transform(test_set)\n",
    "\n",
    "# 开始压缩特征\n",
    "compressor = LDA(n_components=2) # 将n_components设置为2\n",
    "# n_components <= min(n_classes - 1, n_features)\n",
    "\n",
    "compressor.fit(standardized_train, train_y)  # 在训练集上训练\n",
    "transformed_trainset = compressor.transform(standardized_train) # 转换训练集 (20000,2)\n",
    "transformed_testset = compressor.transform(standardized_test) # 转换测试集\n",
    "assert transformed_trainset.shape[1] == transformed_testset.shape[1]\n",
    "# 转换后训练集和测试集有相同的特征数"
   ]
  },
  {
   "cell_type": "code",
   "execution_count": 4,
   "metadata": {
    "ExecuteTime": {
     "end_time": "2020-03-30T03:37:21.314293Z",
     "start_time": "2020-03-30T03:37:21.169760Z"
    }
   },
   "outputs": [
    {
     "data": {
      "image/png": "[encoded data removed]",
      "text/plain": [
       "<Figure size 432x288 with 1 Axes>"
      ]
     },
     "metadata": {
      "needs_background": "light"
     },
     "output_type": "display_data"
    }
   ],
   "source": [
    "# 可视化 所解释的方差与选取的特征数目之间的关系\n",
    "import matplotlib.pyplot as plt\n",
    "plt.plot(np.array(range(len(compressor.explained_variance_ratio_))) + 1, \n",
    "         np.cumsum(compressor.explained_variance_ratio_))\n",
    "plt.xlabel('选取的特征数目')\n",
    "plt.ylabel('累计所解释的方差累')\n",
    "plt.show(); # LDA将原始的4个变量压缩为2个，这2个变量即能解释100%的方差"
   ]
  },
  {
   "cell_type": "code",
   "execution_count": null,
   "metadata": {},
   "outputs": [],
   "source": []
  }
 ],
 "metadata": {
  "kernelspec": {
   "display_name": "Python 3",
   "language": "python",
   "name": "python3"
  },
  "language_info": {
   "codemirror_mode": {
    "name": "ipython",
    "version": 3
   },
   "file_extension": ".py",
   "mimetype": "text/x-python",
   "name": "python",
   "nbconvert_exporter": "python",
   "pygments_lexer": "ipython3",
   "version": "3.6.8"
  },
  "toc": {
   "base_numbering": 1,
   "nav_menu": {},
   "number_sections": true,
   "sideBar": false,
   "skip_h1_title": false,
   "title_cell": "Table of Contents",
   "title_sidebar": "Contents",
   "toc_cell": true,
   "toc_position": {
    "height": "786.465px",
    "left": "40.9922px",
    "top": "113.535px",
    "width": "370.918px"
   },
   "toc_section_display": true,
   "toc_window_display": true
  }
 },
 "nbformat": 4,
 "nbformat_minor": 2
}
