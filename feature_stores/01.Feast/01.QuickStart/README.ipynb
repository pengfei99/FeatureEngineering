{
 "cells": [
  {
   "cell_type": "markdown",
   "metadata": {
    "collapsed": true,
    "pycharm": {
     "name": "#%% md\n"
    }
   },
   "source": [
    "# Quick start\n",
    "\n",
    "## 1.  Install Feast\n",
    "Install the Feast SDK and CLI using pip:\n",
    "\n",
    "In this tutorial, we focus on a local deployment. For a more in-depth guide on how to use Feast with\n",
    "Snowflake / GCP / AWS deployments, see Running Feast with [Snowflake/GCP/AWS](https://docs.feast.dev/how-to-guides/feast-snowflake-gcp-aws)\n",
    "\n",
    "```shell\n",
    "pip install feast\n",
    "\n",
    "poetry add feast\n",
    "```\n",
    "\n",
    "## 2. Step 2: Create a feature repository\n",
    "Bootstrap a new feature repository using feast init from the command line.\n",
    "\n",
    "```shell\n",
    "feast init feature_repo\n",
    "cd feature_repo\n",
    "```\n",
    "\n",
    "This will create a directory in your current location. In my case, I have created the following directory\n",
    "\n",
    "```shell\n",
    "/home/pliu/git/FeatureEngineering/feature_stores/01.Feast/01.QuickStart/feature_repo\n",
    "\n",
    "# when you open it, it has the following contents\n",
    "├── data\n",
    "│   └── driver_stats.parquet\n",
    "├── example.py\n",
    "├── feature_store.yaml\n",
    "└── __init__.py\n",
    "\n",
    "```\n",
    "\n",
    "- data/ contains raw demo parquet data\n",
    "- example.py contains demo feature definitions\n",
    "- feature_store.yaml contains a demo setup configuring where data sources are\n",
    "\n",
    "### Explore feature_store.yaml\n",
    "Below is the content of the auto generated feature_store.yaml\n",
    "\n",
    "```yaml\n",
    "project: feature_repo\n",
    "registry: data/registry.db\n",
    "provider: local\n",
    "online_store:\n",
    "    path: data/online_store.db\n",
    "```\n",
    "\n",
    "The most import config is the **provider**. This defines where the raw data exists\n",
    "(for generating training data & feature values for serving), and where to materialize feature values to in the\n",
    "online store (for serving).\n",
    "\n",
    "Valid values for provider in feature_store.yaml are:\n",
    "- local: use file source with SQLite/Redis\n",
    "- gcp: use BigQuery/Snowflake with Google Cloud Datastore/Redis\n",
    "- aws: use Redshift/Snowflake with DynamoDB/Redis\n",
    "\n",
    "Note that there are many other sources Feast works with, including `Azure, Hive, Trino, and PostgreSQL` via community\n",
    "plugins. See [Third party integrations](https://docs.feast.dev/getting-started/third-party-integrations) for all supported datasources.\n",
    "\n",
    "A custom setup can also be made by following [adding a custom provider](https://docs.feast.dev/how-to-guides/creating-a-custom-provider).\n",
    "\n",
    "### Inspecting raw data\n",
    "\n",
    "The raw feature data we have in this demo is stored in a local parquet file. The dataset captures hourly stats of a driver in a ride-sharing app."
   ]
  },
  {
   "cell_type": "code",
   "execution_count": 1,
   "outputs": [
    {
     "data": {
      "text/plain": "            event_timestamp  driver_id  conv_rate  acc_rate  avg_daily_trips  \\\n0 2022-06-07 13:00:00+00:00       1005   0.913727  0.034992              655   \n1 2022-06-07 14:00:00+00:00       1005   0.508678  0.651014               38   \n2 2022-06-07 15:00:00+00:00       1005   0.896986  0.741025              788   \n3 2022-06-07 16:00:00+00:00       1005   0.189035  0.729997              894   \n4 2022-06-07 17:00:00+00:00       1005   0.271720  0.254235               91   \n\n                  created  \n0 2022-06-22 13:50:22.688  \n1 2022-06-22 13:50:22.688  \n2 2022-06-22 13:50:22.688  \n3 2022-06-22 13:50:22.688  \n4 2022-06-22 13:50:22.688  ",
      "text/html": "<div>\n<style scoped>\n    .dataframe tbody tr th:only-of-type {\n        vertical-align: middle;\n    }\n\n    .dataframe tbody tr th {\n        vertical-align: top;\n    }\n\n    .dataframe thead th {\n        text-align: right;\n    }\n</style>\n<table border=\"1\" class=\"dataframe\">\n  <thead>\n    <tr style=\"text-align: right;\">\n      <th></th>\n      <th>event_timestamp</th>\n      <th>driver_id</th>\n      <th>conv_rate</th>\n      <th>acc_rate</th>\n      <th>avg_daily_trips</th>\n      <th>created</th>\n    </tr>\n  </thead>\n  <tbody>\n    <tr>\n      <th>0</th>\n      <td>2022-06-07 13:00:00+00:00</td>\n      <td>1005</td>\n      <td>0.913727</td>\n      <td>0.034992</td>\n      <td>655</td>\n      <td>2022-06-22 13:50:22.688</td>\n    </tr>\n    <tr>\n      <th>1</th>\n      <td>2022-06-07 14:00:00+00:00</td>\n      <td>1005</td>\n      <td>0.508678</td>\n      <td>0.651014</td>\n      <td>38</td>\n      <td>2022-06-22 13:50:22.688</td>\n    </tr>\n    <tr>\n      <th>2</th>\n      <td>2022-06-07 15:00:00+00:00</td>\n      <td>1005</td>\n      <td>0.896986</td>\n      <td>0.741025</td>\n      <td>788</td>\n      <td>2022-06-22 13:50:22.688</td>\n    </tr>\n    <tr>\n      <th>3</th>\n      <td>2022-06-07 16:00:00+00:00</td>\n      <td>1005</td>\n      <td>0.189035</td>\n      <td>0.729997</td>\n      <td>894</td>\n      <td>2022-06-22 13:50:22.688</td>\n    </tr>\n    <tr>\n      <th>4</th>\n      <td>2022-06-07 17:00:00+00:00</td>\n      <td>1005</td>\n      <td>0.271720</td>\n      <td>0.254235</td>\n      <td>91</td>\n      <td>2022-06-22 13:50:22.688</td>\n    </tr>\n  </tbody>\n</table>\n</div>"
     },
     "execution_count": 1,
     "metadata": {},
     "output_type": "execute_result"
    }
   ],
   "source": [
    "import pandas as pd\n",
    "\n",
    "data_path=\"feature_repo/data/driver_stats.parquet\"\n",
    "df=pd.read_parquet(data_path)\n",
    "\n",
    "df.head()"
   ],
   "metadata": {
    "collapsed": false,
    "pycharm": {
     "name": "#%%\n"
    }
   }
  },
  {
   "cell_type": "markdown",
   "source": [
    "## Step 3: Register feature definitions and deploy your feature store\n",
    "\n",
    "The apply command scans python files in the current directory for feature view/entity definitions, registers the objects, and deploys infrastructure. In this example, it reads example.py (shown again below for convenience) and sets up SQLite online store tables. Note that we had specified SQLite as the default online store by using the local provider in feature_store.yaml."
   ],
   "metadata": {
    "collapsed": false,
    "pycharm": {
     "name": "#%% md\n"
    }
   }
  }
 ],
 "metadata": {
  "kernelspec": {
   "display_name": "Python 3",
   "language": "python",
   "name": "python3"
  },
  "language_info": {
   "codemirror_mode": {
    "name": "ipython",
    "version": 2
   },
   "file_extension": ".py",
   "mimetype": "text/x-python",
   "name": "python",
   "nbconvert_exporter": "python",
   "pygments_lexer": "ipython2",
   "version": "2.7.6"
  }
 },
 "nbformat": 4,
 "nbformat_minor": 0
}