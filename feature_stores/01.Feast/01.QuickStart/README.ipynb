{
 "cells": [
  {
   "cell_type": "markdown",
   "metadata": {
    "collapsed": true,
    "pycharm": {
     "name": "#%% md\n"
    }
   },
   "source": [
    "# Quick start\n",
    "\n",
    "## 1.  Install Feast\n",
    "Install the Feast SDK and CLI using pip:\n",
    "\n",
    "In this tutorial, we focus on a local deployment. For a more in-depth guide on how to use Feast with\n",
    "Snowflake / GCP / AWS deployments, see Running Feast with [Snowflake/GCP/AWS](https://docs.feast.dev/how-to-guides/feast-snowflake-gcp-aws)\n",
    "\n",
    "```shell\n",
    "pip install feast\n",
    "\n",
    "poetry add feast\n",
    "```\n",
    "\n",
    "## 2. Step 2: Create a feature repository\n",
    "Bootstrap a new feature repository using feast init from the command line.\n",
    "\n",
    "```shell\n",
    "feast init feature_repo\n",
    "cd feature_repo\n",
    "```\n",
    "\n",
    "This will create a directory in your current location. In my case, I have created the following directory\n",
    "\n",
    "```shell\n",
    "/home/pliu/git/FeatureEngineering/feature_stores/01.Feast/01.QuickStart/feature_repo\n",
    "\n",
    "# when you open it, it has the following contents\n",
    "├── data\n",
    "│   └── driver_stats.parquet\n",
    "├── example.py\n",
    "├── feature_store.yaml\n",
    "└── __init__.py\n",
    "\n",
    "```\n",
    "\n",
    "- data/ contains raw demo parquet data\n",
    "- example.py contains demo feature definitions\n",
    "- feature_store.yaml contains a demo setup configuring where data sources are\n",
    "\n",
    "### Explore feature_store.yaml\n",
    "Below is the content of the auto generated feature_store.yaml\n",
    "\n",
    "```yaml\n",
    "project: feature_repo\n",
    "registry: data/registry.db\n",
    "provider: local\n",
    "online_store:\n",
    "    path: data/online_store.db\n",
    "```\n",
    "\n",
    "The most import config is the **provider**. This defines where the raw data exists\n",
    "(for generating training data & feature values for serving), and where to materialize feature values to in the\n",
    "online store (for serving).\n",
    "\n",
    "Valid values for provider in feature_store.yaml are:\n",
    "- local: use file source with SQLite/Redis\n",
    "- gcp: use BigQuery/Snowflake with Google Cloud Datastore/Redis\n",
    "- aws: use Redshift/Snowflake with DynamoDB/Redis\n",
    "\n",
    "Note that there are many other sources Feast works with, including `Azure, Hive, Trino, and PostgreSQL` via community\n",
    "plugins. See [Third party integrations](https://docs.feast.dev/getting-started/third-party-integrations) for all supported datasources.\n",
    "\n",
    "A custom setup can also be made by following [adding a custom provider](https://docs.feast.dev/how-to-guides/creating-a-custom-provider).\n",
    "\n",
    "### Inspecting raw data\n",
    "\n",
    "The raw feature data we have in this demo is stored in a local parquet file. The dataset captures hourly stats of a driver in a ride-sharing app."
   ]
  },
  {
   "cell_type": "code",
   "execution_count": 1,
   "outputs": [
    {
     "data": {
      "text/plain": "            event_timestamp  driver_id  conv_rate  acc_rate  avg_daily_trips  \\\n0 2022-06-07 13:00:00+00:00       1005   0.913727  0.034992              655   \n1 2022-06-07 14:00:00+00:00       1005   0.508678  0.651014               38   \n2 2022-06-07 15:00:00+00:00       1005   0.896986  0.741025              788   \n3 2022-06-07 16:00:00+00:00       1005   0.189035  0.729997              894   \n4 2022-06-07 17:00:00+00:00       1005   0.271720  0.254235               91   \n\n                  created  \n0 2022-06-22 13:50:22.688  \n1 2022-06-22 13:50:22.688  \n2 2022-06-22 13:50:22.688  \n3 2022-06-22 13:50:22.688  \n4 2022-06-22 13:50:22.688  ",
      "text/html": "<div>\n<style scoped>\n    .dataframe tbody tr th:only-of-type {\n        vertical-align: middle;\n    }\n\n    .dataframe tbody tr th {\n        vertical-align: top;\n    }\n\n    .dataframe thead th {\n        text-align: right;\n    }\n</style>\n<table border=\"1\" class=\"dataframe\">\n  <thead>\n    <tr style=\"text-align: right;\">\n      <th></th>\n      <th>event_timestamp</th>\n      <th>driver_id</th>\n      <th>conv_rate</th>\n      <th>acc_rate</th>\n      <th>avg_daily_trips</th>\n      <th>created</th>\n    </tr>\n  </thead>\n  <tbody>\n    <tr>\n      <th>0</th>\n      <td>2022-06-07 13:00:00+00:00</td>\n      <td>1005</td>\n      <td>0.913727</td>\n      <td>0.034992</td>\n      <td>655</td>\n      <td>2022-06-22 13:50:22.688</td>\n    </tr>\n    <tr>\n      <th>1</th>\n      <td>2022-06-07 14:00:00+00:00</td>\n      <td>1005</td>\n      <td>0.508678</td>\n      <td>0.651014</td>\n      <td>38</td>\n      <td>2022-06-22 13:50:22.688</td>\n    </tr>\n    <tr>\n      <th>2</th>\n      <td>2022-06-07 15:00:00+00:00</td>\n      <td>1005</td>\n      <td>0.896986</td>\n      <td>0.741025</td>\n      <td>788</td>\n      <td>2022-06-22 13:50:22.688</td>\n    </tr>\n    <tr>\n      <th>3</th>\n      <td>2022-06-07 16:00:00+00:00</td>\n      <td>1005</td>\n      <td>0.189035</td>\n      <td>0.729997</td>\n      <td>894</td>\n      <td>2022-06-22 13:50:22.688</td>\n    </tr>\n    <tr>\n      <th>4</th>\n      <td>2022-06-07 17:00:00+00:00</td>\n      <td>1005</td>\n      <td>0.271720</td>\n      <td>0.254235</td>\n      <td>91</td>\n      <td>2022-06-22 13:50:22.688</td>\n    </tr>\n  </tbody>\n</table>\n</div>"
     },
     "execution_count": 1,
     "metadata": {},
     "output_type": "execute_result"
    }
   ],
   "source": [
    "import pandas as pd\n",
    "\n",
    "data_path=\"feature_repo/data/driver_stats.parquet\"\n",
    "df=pd.read_parquet(data_path)\n",
    "\n",
    "df.head()"
   ],
   "metadata": {
    "collapsed": false,
    "pycharm": {
     "name": "#%%\n"
    }
   }
  },
  {
   "cell_type": "markdown",
   "source": [
    "## Step 3: Register feature definitions and deploy your feature store\n",
    "\n",
    "### 3.1 Extract the features from the raw data\n",
    "\n",
    "Below is the complet python script that extract three feature from the raw data\n",
    "\n",
    "```python\n",
    "# This is an example feature definition file\n",
    "\n",
    "from datetime import timedelta\n",
    "from feast import Entity, FeatureService, FeatureView, Field, FileSource, ValueType\n",
    "from feast.types import Float32, Int64\n",
    "\n",
    "#################### Step 1: Define the data source #################################\n",
    "# Read data from parquet files. Parquet is convenient for local development mode. For\n",
    "# production, you can use your favorite DWH, such as BigQuery. See Feast documentation\n",
    "# for more info.\n",
    "driver_hourly_stats = FileSource(\n",
    "    path=\"/home/pliu/git/FeatureEngineering/feature_stores/01.Feast/01.QuickStart/feature_repo/data/driver_stats.parquet\",\n",
    "    timestamp_field=\"event_timestamp\",\n",
    "    created_timestamp_column=\"created\",\n",
    ")\n",
    "\n",
    "################## Step 2: Define the data entity ##################################\n",
    "# Define an entity for the driver. You can think of entity as a primary key used to\n",
    "# fetch features.\n",
    "driver = Entity(name=\"driver\", join_keys=[\"driver_id\"], value_type=ValueType.INT64,)\n",
    "\n",
    "\n",
    "################### Step 3: Define the feature view ###############################\n",
    "# A feature view contains:\n",
    "# - name: the name of the view\n",
    "# - entities: a list of identification column that are used to fetch features\n",
    "# - schema: a list of columns that represent the feature column\n",
    "# - source: the FileSource (raw source data) that are used to build the feature views\n",
    "\n",
    "# Our parquet files contain sample data that includes a driver_id column, timestamps and\n",
    "# three features column. Here we define a Feature View that will allow us to serve this\n",
    "# data to our model online.\n",
    "driver_hourly_stats_view = FeatureView(\n",
    "    name=\"driver_hourly_stats\",\n",
    "    entities=[\"driver\"],\n",
    "    ttl=timedelta(days=1),\n",
    "    schema=[\n",
    "        Field(name=\"conv_rate\", dtype=Float32),\n",
    "        Field(name=\"acc_rate\", dtype=Float32),\n",
    "        Field(name=\"avg_daily_trips\", dtype=Int64),\n",
    "    ],\n",
    "    online=True,\n",
    "    source=driver_hourly_stats,\n",
    "    tags={},\n",
    ")\n",
    "\n",
    "################## Step 4: Define the feature store ##############################\n",
    "# note a feature store can contain multiple feature views\n",
    "driver_stats_fs = FeatureService(\n",
    "    name=\"driver_activity\", features=[driver_hourly_stats_view]\n",
    ")\n",
    "\n",
    "\n",
    "```\n",
    "\n",
    "### 3.2 Register the features\n",
    "\n",
    "To register the feature definitions that we have defined inside the `example.py(python script above)`, we need to run below command\n",
    "\n",
    "```shell\n",
    "feast apply\n",
    "```\n",
    "\n",
    "This command scans python the python files (e.g. `example.py`) in the current directory for feature view/entity definitions, registers the objects, and deploys infrastructure. In this example, our example.py (shown again below for convenience) uses a SQLite online store tables. Note that we had specified SQLite as the default online store by using the `local provider in feature_store.yaml`.\n",
    "\n",
    "You should see below output after running `feast apply`\n",
    "\n",
    "```text\n",
    "Created entity driver\n",
    "Created feature view driver_hourly_stats\n",
    "Created feature service driver_activity\n",
    "\n",
    "Created sqlite table feature_repo_driver_hourly_stats\n",
    "\n",
    "```\n",
    "\n",
    "## Step 4: Generating training data\n",
    "\n",
    "To train a model, we need features and labels. Often, this label data is stored separately (e.g. you have one table storing user survey results and another set of tables with feature values).\n",
    "\n",
    "The user can query that table of labels with timestamps and pass that into Feast as an entity dataframe for training data generation. In many cases, Feast will also intelligently join relevant tables to create the relevant feature vectors.\n",
    "\n",
    "- Note that we include timestamps because want the features for the same driver at various timestamps to be used in a model."
   ],
   "metadata": {
    "collapsed": false,
    "pycharm": {
     "name": "#%% md\n"
    }
   }
  },
  {
   "cell_type": "code",
   "execution_count": 2,
   "outputs": [
    {
     "name": "stderr",
     "output_type": "stream",
     "text": [
      "<frozen importlib._bootstrap>:219: RuntimeWarning: numpy.ufunc size changed, may indicate binary incompatibility. Expected 216 from C header, got 232 from PyObject\n",
      "<frozen importlib._bootstrap>:219: RuntimeWarning: numpy.ufunc size changed, may indicate binary incompatibility. Expected 216 from C header, got 232 from PyObject\n"
     ]
    },
    {
     "name": "stdout",
     "output_type": "stream",
     "text": [
      "----- Feature schema -----\n",
      "\n",
      "<class 'pandas.core.frame.DataFrame'>\n",
      "RangeIndex: 0 entries\n",
      "Data columns (total 6 columns):\n",
      " #   Column                              Non-Null Count  Dtype              \n",
      "---  ------                              --------------  -----              \n",
      " 0   driver_id                           0 non-null      int64              \n",
      " 1   label_driver_reported_satisfaction  0 non-null      int64              \n",
      " 2   event_timestamp                     0 non-null      datetime64[ns, UTC]\n",
      " 3   conv_rate                           0 non-null      float32            \n",
      " 4   acc_rate                            0 non-null      float32            \n",
      " 5   avg_daily_trips                     0 non-null      int32              \n",
      "dtypes: datetime64[ns, UTC](1), float32(2), int32(1), int64(2)\n",
      "memory usage: 124.0 bytes\n",
      "None\n",
      "\n",
      "----- Example features -----\n",
      "\n",
      "Empty DataFrame\n",
      "Columns: [driver_id, label_driver_reported_satisfaction, event_timestamp, conv_rate, acc_rate, avg_daily_trips]\n",
      "Index: []\n"
     ]
    }
   ],
   "source": [
    "from datetime import datetime, timedelta\n",
    "import pandas as pd\n",
    "\n",
    "from feast import FeatureStore\n",
    "\n",
    "# The entity dataframe is the dataframe we want to enrich with feature values\n",
    "entity_df = pd.DataFrame.from_dict(\n",
    "    {\n",
    "        # entity's join key -> entity values\n",
    "        \"driver_id\": [1001, 1002, 1003],\n",
    "\n",
    "        # label name -> label values\n",
    "        \"label_driver_reported_satisfaction\": [1, 5, 3],\n",
    "\n",
    "        # \"event_timestamp\" (reserved key) -> timestamps\n",
    "        \"event_timestamp\": [\n",
    "            datetime.now() - timedelta(minutes=11),\n",
    "            datetime.now() - timedelta(minutes=36),\n",
    "            datetime.now() - timedelta(minutes=73),\n",
    "        ],\n",
    "    }\n",
    ")\n",
    "store_path=\"feature_repo/.\"\n",
    "store = FeatureStore(repo_path=store_path)\n",
    "\n",
    "training_df = store.get_historical_features(\n",
    "    entity_df=entity_df,\n",
    "    features=[\n",
    "        \"driver_hourly_stats:conv_rate\",\n",
    "        \"driver_hourly_stats:acc_rate\",\n",
    "        \"driver_hourly_stats:avg_daily_trips\",\n",
    "    ],\n",
    ").to_df()\n",
    "\n",
    "print(\"----- Feature schema -----\\n\")\n",
    "print(training_df.info())\n",
    "\n",
    "print()\n",
    "print(\"----- Example features -----\\n\")\n",
    "print(training_df.head())"
   ],
   "metadata": {
    "collapsed": false,
    "pycharm": {
     "name": "#%%\n"
    }
   }
  },
  {
   "cell_type": "markdown",
   "source": [
    "## Step 5: Load features into your online store\n",
    "\n",
    "We now serialize the latest values of features since the beginning of time to prepare for serving (note: materialize-incremental serializes all new features since the last materialize call).\n",
    "\n",
    "Run below bash command\n",
    "\n",
    "```shell\n",
    "CURRENT_TIME=$(date -u +\"%Y-%m-%dT%H:%M:%S\")\n",
    "feast materialize-incremental $CURRENT_TIME\n",
    "```\n",
    "\n",
    "You should see below output\n",
    "\n",
    "```text\n",
    "Materializing 1 feature views to 2022-06-22 15:45:11+02:00 into the sqlite online store.\n",
    "\n",
    "driver_hourly_stats from 2022-06-21 13:45:14+02:00 to 2022-06-22 15:45:11+02:00:\n",
    "100%|█████████████████████████████████████████████████████████████████| 5/5 [00:00<00:00, 45.08it/s]\n",
    "\n",
    "```"
   ],
   "metadata": {
    "collapsed": false,
    "pycharm": {
     "name": "#%% md\n"
    }
   }
  },
  {
   "cell_type": "markdown",
   "source": [
    "## Step 6: Fetching feature vectors for inference\n",
    "\n",
    "At inference time, we need to quickly read the latest feature values for different drivers (which otherwise might have existed only in batch sources) from the online feature store using `get_online_features()`. These feature vectors can then be fed to the model."
   ],
   "metadata": {
    "collapsed": false,
    "pycharm": {
     "name": "#%% md\n"
    }
   }
  },
  {
   "cell_type": "code",
   "execution_count": 7,
   "outputs": [
    {
     "name": "stdout",
     "output_type": "stream",
     "text": [
      "{'acc_rate': [0.669306755065918, 0.4245249927043915],\n",
      " 'avg_daily_trips': [147, 578],\n",
      " 'conv_rate': [0.7321154475212097, 0.7953137755393982],\n",
      " 'driver_id': [1004, 1005]}\n"
     ]
    }
   ],
   "source": [
    "from pprint import pprint\n",
    "from feast import FeatureStore\n",
    "\n",
    "store = FeatureStore(repo_path=store_path)\n",
    "\n",
    "feature_vector = store.get_online_features(\n",
    "    features=[\n",
    "        \"driver_hourly_stats:conv_rate\",\n",
    "        \"driver_hourly_stats:acc_rate\",\n",
    "        \"driver_hourly_stats:avg_daily_trips\",\n",
    "    ],\n",
    "    entity_rows=[\n",
    "        # {join_key: entity_value}\n",
    "        {\"driver_id\": 1004},\n",
    "        {\"driver_id\": 1005},\n",
    "    ],\n",
    ").to_dict()\n",
    "\n",
    "pprint(feature_vector)"
   ],
   "metadata": {
    "collapsed": false,
    "pycharm": {
     "name": "#%%\n"
    }
   }
  },
  {
   "cell_type": "markdown",
   "source": [
    "## Step 7: Using a feature service to fetch online features instead.\n",
    "\n",
    "You can also use feature services to manage multiple features, and decouple feature view definitions and the features needed by end applications. The feature store can also be used to fetch either online or historical features using the same api below. More information can be found [here](https://docs.feast.dev/getting-started/concepts/feature-retrieval)."
   ],
   "metadata": {
    "collapsed": false,
    "pycharm": {
     "name": "#%% md\n"
    }
   }
  },
  {
   "cell_type": "code",
   "execution_count": 8,
   "outputs": [],
   "source": [
    "from feast import FeatureStore\n",
    "feature_store = FeatureStore(store_path)  # Initialize the feature store\n",
    "\n",
    "feature_service = feature_store.get_feature_service(\"driver_activity\")\n",
    "features = feature_store.get_online_features(\n",
    "    features=feature_service,\n",
    "    entity_rows=[\n",
    "        # {join_key: entity_value}\n",
    "        {\"driver_id\": 1004},\n",
    "        {\"driver_id\": 1005},\n",
    "    ],\n",
    ").to_dict()"
   ],
   "metadata": {
    "collapsed": false,
    "pycharm": {
     "name": "#%%\n"
    }
   }
  },
  {
   "cell_type": "code",
   "execution_count": 10,
   "outputs": [
    {
     "name": "stdout",
     "output_type": "stream",
     "text": [
      "{'acc_rate': [0.669306755065918, 0.4245249927043915],\n",
      " 'avg_daily_trips': [147, 578],\n",
      " 'conv_rate': [0.7321154475212097, 0.7953137755393982],\n",
      " 'driver_id': [1004, 1005]}\n"
     ]
    }
   ],
   "source": [
    "pprint(features)"
   ],
   "metadata": {
    "collapsed": false,
    "pycharm": {
     "name": "#%%\n"
    }
   }
  },
  {
   "cell_type": "markdown",
   "source": [
    "## Step 8: Browse your features with the Web UI (experimental)\n",
    "\n",
    "View all registered features, data sources, entities, and feature services with the Web UI\n",
    "Run below command\n",
    "\n",
    "```shell\n",
    "# start web ui on port 8080\n",
    "feast ui -p 8080\n",
    "```\n"
   ],
   "metadata": {
    "collapsed": false,
    "pycharm": {
     "name": "#%% md\n"
    }
   }
  }
 ],
 "metadata": {
  "kernelspec": {
   "display_name": "Python 3",
   "language": "python",
   "name": "python3"
  },
  "language_info": {
   "codemirror_mode": {
    "name": "ipython",
    "version": 2
   },
   "file_extension": ".py",
   "mimetype": "text/x-python",
   "name": "python",
   "nbconvert_exporter": "python",
   "pygments_lexer": "ipython2",
   "version": "2.7.6"
  }
 },
 "nbformat": 4,
 "nbformat_minor": 0
}